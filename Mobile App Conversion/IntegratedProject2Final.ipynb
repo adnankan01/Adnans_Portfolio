{
 "cells": [
  {
   "cell_type": "markdown",
   "metadata": {},
   "source": [
    "## Objective: \n",
    "- You work at a startup that sells food products. You need to investigate user behavior for the company's app.\n",
    "- First study the sales funnel. Find out how users reach the purchase stage. How many users actually make it to this stage? How many get stuck at previous stages? Which stages in particular?\n",
    "\n",
    "## Description of the data\n",
    "Each log entry is a user action or an event.\n",
    "- EventName — event name\n",
    "- DeviceIDHash — unique user identifier\n",
    "- EventTimestamp — event time\n",
    "- ExpId — experiment number: \n",
    "    - __246 & 247 = CONTROL groups__ \n",
    "    - __248 = TEST group__\n",
    "\n",
    "## Step 2. Prepare the data for analysis\n",
    "- Rename the columns in a way that's convenient for you.\n",
    "- Check for missing values and data types. Correct the data if needed\n",
    "- Add a date and time column and a separate column for dates\n",
    "\n",
    "## Step 3. Study and check the data\n",
    "- How many events are in the logs?\n",
    "- How many users are in the logs?\n",
    "- What's the average number of events per user?\n",
    "- What period of time does the data cover? Find the maximum and the minimum date. Plot a histogram by date and time. Can you be sure that you have equally complete data for the entire period? Older events could end up in some users' logs for technical reasons, and this could skew the overall picture. Find the moment at which the data starts to be complete and ignore the earlier section. What period does the data actually represent?\n",
    "- Did you lose many events and users when excluding the older data?\n",
    "- Make sure you have users from all three experimental groups.\n",
    "\n",
    "## Step 4. Study the event funnel\n",
    "- See what events are in the logs and their frequency of occurrence. Sort them by frequency.\n",
    "- Find the number of users who performed each of these actions. Sort the events by the number of users. Calculate the proportion of users who performed the action at least once.\n",
    "- In what order do you think the actions took place. Are all of them part of a single sequence? You don't need to take them into account when calculating the funnel.\n",
    "- Use the event funnel to find the share of users that proceed from each stage to the next. (For instance, for the sequence of events A → B → C, calculate the ratio of users at stage B to the number of users at stage A and the ratio of users at stage C to the number at stage B.)\n",
    "- At what stage do you lose the most users?\n",
    "- What share of users make the entire journey from their first event to payment?\n",
    "\n",
    "## Step 5. Study the results of the experiment\n",
    "- How many users are there in each group?\n",
    "- We have two control groups in the A/A test, where we check our mechanisms and calculations. See if there is a statistically significant difference between samples 246 and 247.\n",
    "- Select the most popular event. In each of the control groups, find the number of users who performed this action. Find their share. Check whether the difference between the groups is statistically significant. Repeat the procedure for all other events (it will save time if you create a special function for this test). Can you confirm that the groups were split properly?\n",
    "- Do the same thing for the group with altered fonts. Compare the results with those of each of the control groups for each event in isolation. Compare the results with the combined results for the control groups. What conclusions can you draw from the experiment?\n",
    "- What significance level have you set to test the statistical hypotheses mentioned above? Calculate how many statistical hypothesis tests you carried out. With a statistical significance level of 0.1, one in 10 results could be false. What should the significance level be? If you want to change it, run through the previous steps again and check your conclusions."
   ]
  },
  {
   "cell_type": "code",
   "execution_count": 2,
   "metadata": {},
   "outputs": [
    {
     "data": {
      "text/html": [
       "<div>\n",
       "<style scoped>\n",
       "    .dataframe tbody tr th:only-of-type {\n",
       "        vertical-align: middle;\n",
       "    }\n",
       "\n",
       "    .dataframe tbody tr th {\n",
       "        vertical-align: top;\n",
       "    }\n",
       "\n",
       "    .dataframe thead th {\n",
       "        text-align: right;\n",
       "    }\n",
       "</style>\n",
       "<table border=\"1\" class=\"dataframe\">\n",
       "  <thead>\n",
       "    <tr style=\"text-align: right;\">\n",
       "      <th></th>\n",
       "      <th>EventName</th>\n",
       "      <th>DeviceIDHash</th>\n",
       "      <th>EventTimestamp</th>\n",
       "      <th>ExpId</th>\n",
       "    </tr>\n",
       "  </thead>\n",
       "  <tbody>\n",
       "    <tr>\n",
       "      <th>0</th>\n",
       "      <td>MainScreenAppear</td>\n",
       "      <td>4575588528974610257</td>\n",
       "      <td>1564029816</td>\n",
       "      <td>246</td>\n",
       "    </tr>\n",
       "    <tr>\n",
       "      <th>1</th>\n",
       "      <td>MainScreenAppear</td>\n",
       "      <td>7416695313311560658</td>\n",
       "      <td>1564053102</td>\n",
       "      <td>246</td>\n",
       "    </tr>\n",
       "    <tr>\n",
       "      <th>2</th>\n",
       "      <td>PaymentScreenSuccessful</td>\n",
       "      <td>3518123091307005509</td>\n",
       "      <td>1564054127</td>\n",
       "      <td>248</td>\n",
       "    </tr>\n",
       "    <tr>\n",
       "      <th>3</th>\n",
       "      <td>CartScreenAppear</td>\n",
       "      <td>3518123091307005509</td>\n",
       "      <td>1564054127</td>\n",
       "      <td>248</td>\n",
       "    </tr>\n",
       "    <tr>\n",
       "      <th>4</th>\n",
       "      <td>PaymentScreenSuccessful</td>\n",
       "      <td>6217807653094995999</td>\n",
       "      <td>1564055322</td>\n",
       "      <td>248</td>\n",
       "    </tr>\n",
       "  </tbody>\n",
       "</table>\n",
       "</div>"
      ],
      "text/plain": [
       "                 EventName         DeviceIDHash  EventTimestamp  ExpId\n",
       "0         MainScreenAppear  4575588528974610257      1564029816    246\n",
       "1         MainScreenAppear  7416695313311560658      1564053102    246\n",
       "2  PaymentScreenSuccessful  3518123091307005509      1564054127    248\n",
       "3         CartScreenAppear  3518123091307005509      1564054127    248\n",
       "4  PaymentScreenSuccessful  6217807653094995999      1564055322    248"
      ]
     },
     "execution_count": 2,
     "metadata": {},
     "output_type": "execute_result"
    }
   ],
   "source": [
    "import pandas as pd\n",
    "import matplotlib.pyplot as plt\n",
    "import numpy as np\n",
    "from scipy import stats as st\n",
    "from datetime import datetime\n",
    "import seaborn as sns\n",
    "#sns.set()\n",
    "data = pd.read_csv('https://code.s3.yandex.net/datasets/logs_exp_us.csv', sep='\\t')\n",
    "                   \n",
    "data.head()"
   ]
  },
  {
   "cell_type": "markdown",
   "metadata": {},
   "source": [
    "### Step 2"
   ]
  },
  {
   "cell_type": "code",
   "execution_count": 3,
   "metadata": {},
   "outputs": [
    {
     "data": {
      "text/html": [
       "<div>\n",
       "<style scoped>\n",
       "    .dataframe tbody tr th:only-of-type {\n",
       "        vertical-align: middle;\n",
       "    }\n",
       "\n",
       "    .dataframe tbody tr th {\n",
       "        vertical-align: top;\n",
       "    }\n",
       "\n",
       "    .dataframe thead th {\n",
       "        text-align: right;\n",
       "    }\n",
       "</style>\n",
       "<table border=\"1\" class=\"dataframe\">\n",
       "  <thead>\n",
       "    <tr style=\"text-align: right;\">\n",
       "      <th></th>\n",
       "      <th>EventName</th>\n",
       "      <th>DeviceIDHash</th>\n",
       "      <th>EventTimestamp</th>\n",
       "      <th>ExpId</th>\n",
       "    </tr>\n",
       "  </thead>\n",
       "  <tbody>\n",
       "    <tr>\n",
       "      <th>0</th>\n",
       "      <td>MainScreenAppear</td>\n",
       "      <td>4575588528974610257</td>\n",
       "      <td>1564029816</td>\n",
       "      <td>246</td>\n",
       "    </tr>\n",
       "    <tr>\n",
       "      <th>1</th>\n",
       "      <td>MainScreenAppear</td>\n",
       "      <td>7416695313311560658</td>\n",
       "      <td>1564053102</td>\n",
       "      <td>246</td>\n",
       "    </tr>\n",
       "    <tr>\n",
       "      <th>2</th>\n",
       "      <td>PaymentScreenSuccessful</td>\n",
       "      <td>3518123091307005509</td>\n",
       "      <td>1564054127</td>\n",
       "      <td>248</td>\n",
       "    </tr>\n",
       "    <tr>\n",
       "      <th>3</th>\n",
       "      <td>CartScreenAppear</td>\n",
       "      <td>3518123091307005509</td>\n",
       "      <td>1564054127</td>\n",
       "      <td>248</td>\n",
       "    </tr>\n",
       "    <tr>\n",
       "      <th>4</th>\n",
       "      <td>PaymentScreenSuccessful</td>\n",
       "      <td>6217807653094995999</td>\n",
       "      <td>1564055322</td>\n",
       "      <td>248</td>\n",
       "    </tr>\n",
       "    <tr>\n",
       "      <th>...</th>\n",
       "      <td>...</td>\n",
       "      <td>...</td>\n",
       "      <td>...</td>\n",
       "      <td>...</td>\n",
       "    </tr>\n",
       "    <tr>\n",
       "      <th>244121</th>\n",
       "      <td>MainScreenAppear</td>\n",
       "      <td>4599628364049201812</td>\n",
       "      <td>1565212345</td>\n",
       "      <td>247</td>\n",
       "    </tr>\n",
       "    <tr>\n",
       "      <th>244122</th>\n",
       "      <td>MainScreenAppear</td>\n",
       "      <td>5849806612437486590</td>\n",
       "      <td>1565212439</td>\n",
       "      <td>246</td>\n",
       "    </tr>\n",
       "    <tr>\n",
       "      <th>244123</th>\n",
       "      <td>MainScreenAppear</td>\n",
       "      <td>5746969938801999050</td>\n",
       "      <td>1565212483</td>\n",
       "      <td>246</td>\n",
       "    </tr>\n",
       "    <tr>\n",
       "      <th>244124</th>\n",
       "      <td>MainScreenAppear</td>\n",
       "      <td>5746969938801999050</td>\n",
       "      <td>1565212498</td>\n",
       "      <td>246</td>\n",
       "    </tr>\n",
       "    <tr>\n",
       "      <th>244125</th>\n",
       "      <td>OffersScreenAppear</td>\n",
       "      <td>5746969938801999050</td>\n",
       "      <td>1565212517</td>\n",
       "      <td>246</td>\n",
       "    </tr>\n",
       "  </tbody>\n",
       "</table>\n",
       "<p>244126 rows × 4 columns</p>\n",
       "</div>"
      ],
      "text/plain": [
       "                      EventName         DeviceIDHash  EventTimestamp  ExpId\n",
       "0              MainScreenAppear  4575588528974610257      1564029816    246\n",
       "1              MainScreenAppear  7416695313311560658      1564053102    246\n",
       "2       PaymentScreenSuccessful  3518123091307005509      1564054127    248\n",
       "3              CartScreenAppear  3518123091307005509      1564054127    248\n",
       "4       PaymentScreenSuccessful  6217807653094995999      1564055322    248\n",
       "...                         ...                  ...             ...    ...\n",
       "244121         MainScreenAppear  4599628364049201812      1565212345    247\n",
       "244122         MainScreenAppear  5849806612437486590      1565212439    246\n",
       "244123         MainScreenAppear  5746969938801999050      1565212483    246\n",
       "244124         MainScreenAppear  5746969938801999050      1565212498    246\n",
       "244125       OffersScreenAppear  5746969938801999050      1565212517    246\n",
       "\n",
       "[244126 rows x 4 columns]"
      ]
     },
     "execution_count": 3,
     "metadata": {},
     "output_type": "execute_result"
    }
   ],
   "source": [
    "#data['EventTimestamp'] = pd.to_datetime(data['EventTimestamp'], '%c')\n",
    "data"
   ]
  },
  {
   "cell_type": "markdown",
   "metadata": {},
   "source": [
    "epoch = data[data['EventTimestamp']]"
   ]
  },
  {
   "cell_type": "code",
   "execution_count": 4,
   "metadata": {},
   "outputs": [
    {
     "name": "stdout",
     "output_type": "stream",
     "text": [
      "<class 'pandas.core.frame.DataFrame'>\n",
      "RangeIndex: 244126 entries, 0 to 244125\n",
      "Data columns (total 4 columns):\n",
      " #   Column          Non-Null Count   Dtype \n",
      "---  ------          --------------   ----- \n",
      " 0   EventName       244126 non-null  object\n",
      " 1   DeviceIDHash    244126 non-null  int64 \n",
      " 2   EventTimestamp  244126 non-null  int64 \n",
      " 3   ExpId           244126 non-null  int64 \n",
      "dtypes: int64(3), object(1)\n",
      "memory usage: 7.5+ MB\n"
     ]
    }
   ],
   "source": [
    "data.info()"
   ]
  },
  {
   "cell_type": "code",
   "execution_count": 5,
   "metadata": {},
   "outputs": [
    {
     "data": {
      "text/plain": [
       "EventName         0\n",
       "DeviceIDHash      0\n",
       "EventTimestamp    0\n",
       "ExpId             0\n",
       "dtype: int64"
      ]
     },
     "execution_count": 5,
     "metadata": {},
     "output_type": "execute_result"
    }
   ],
   "source": [
    "data.isnull().sum()"
   ]
  },
  {
   "cell_type": "code",
   "execution_count": 6,
   "metadata": {},
   "outputs": [
    {
     "data": {
      "text/plain": [
       "413"
      ]
     },
     "execution_count": 6,
     "metadata": {},
     "output_type": "execute_result"
    }
   ],
   "source": [
    "data.duplicated().sum()\n",
    "\n",
    "\n",
    "#413/244126 = less than %.01 of the dataframe so dropping rows"
   ]
  },
  {
   "cell_type": "code",
   "execution_count": 7,
   "metadata": {},
   "outputs": [
    {
     "data": {
      "text/html": [
       "<div>\n",
       "<style scoped>\n",
       "    .dataframe tbody tr th:only-of-type {\n",
       "        vertical-align: middle;\n",
       "    }\n",
       "\n",
       "    .dataframe tbody tr th {\n",
       "        vertical-align: top;\n",
       "    }\n",
       "\n",
       "    .dataframe thead th {\n",
       "        text-align: right;\n",
       "    }\n",
       "</style>\n",
       "<table border=\"1\" class=\"dataframe\">\n",
       "  <thead>\n",
       "    <tr style=\"text-align: right;\">\n",
       "      <th></th>\n",
       "      <th>EventName</th>\n",
       "      <th>DeviceIDHash</th>\n",
       "      <th>EventTimestamp</th>\n",
       "      <th>ExpId</th>\n",
       "    </tr>\n",
       "  </thead>\n",
       "  <tbody>\n",
       "    <tr>\n",
       "      <th>0</th>\n",
       "      <td>MainScreenAppear</td>\n",
       "      <td>4575588528974610257</td>\n",
       "      <td>1564029816</td>\n",
       "      <td>246</td>\n",
       "    </tr>\n",
       "    <tr>\n",
       "      <th>1</th>\n",
       "      <td>MainScreenAppear</td>\n",
       "      <td>7416695313311560658</td>\n",
       "      <td>1564053102</td>\n",
       "      <td>246</td>\n",
       "    </tr>\n",
       "    <tr>\n",
       "      <th>2</th>\n",
       "      <td>PaymentScreenSuccessful</td>\n",
       "      <td>3518123091307005509</td>\n",
       "      <td>1564054127</td>\n",
       "      <td>248</td>\n",
       "    </tr>\n",
       "    <tr>\n",
       "      <th>3</th>\n",
       "      <td>CartScreenAppear</td>\n",
       "      <td>3518123091307005509</td>\n",
       "      <td>1564054127</td>\n",
       "      <td>248</td>\n",
       "    </tr>\n",
       "    <tr>\n",
       "      <th>4</th>\n",
       "      <td>PaymentScreenSuccessful</td>\n",
       "      <td>6217807653094995999</td>\n",
       "      <td>1564055322</td>\n",
       "      <td>248</td>\n",
       "    </tr>\n",
       "    <tr>\n",
       "      <th>...</th>\n",
       "      <td>...</td>\n",
       "      <td>...</td>\n",
       "      <td>...</td>\n",
       "      <td>...</td>\n",
       "    </tr>\n",
       "    <tr>\n",
       "      <th>244121</th>\n",
       "      <td>MainScreenAppear</td>\n",
       "      <td>4599628364049201812</td>\n",
       "      <td>1565212345</td>\n",
       "      <td>247</td>\n",
       "    </tr>\n",
       "    <tr>\n",
       "      <th>244122</th>\n",
       "      <td>MainScreenAppear</td>\n",
       "      <td>5849806612437486590</td>\n",
       "      <td>1565212439</td>\n",
       "      <td>246</td>\n",
       "    </tr>\n",
       "    <tr>\n",
       "      <th>244123</th>\n",
       "      <td>MainScreenAppear</td>\n",
       "      <td>5746969938801999050</td>\n",
       "      <td>1565212483</td>\n",
       "      <td>246</td>\n",
       "    </tr>\n",
       "    <tr>\n",
       "      <th>244124</th>\n",
       "      <td>MainScreenAppear</td>\n",
       "      <td>5746969938801999050</td>\n",
       "      <td>1565212498</td>\n",
       "      <td>246</td>\n",
       "    </tr>\n",
       "    <tr>\n",
       "      <th>244125</th>\n",
       "      <td>OffersScreenAppear</td>\n",
       "      <td>5746969938801999050</td>\n",
       "      <td>1565212517</td>\n",
       "      <td>246</td>\n",
       "    </tr>\n",
       "  </tbody>\n",
       "</table>\n",
       "<p>243713 rows × 4 columns</p>\n",
       "</div>"
      ],
      "text/plain": [
       "                      EventName         DeviceIDHash  EventTimestamp  ExpId\n",
       "0              MainScreenAppear  4575588528974610257      1564029816    246\n",
       "1              MainScreenAppear  7416695313311560658      1564053102    246\n",
       "2       PaymentScreenSuccessful  3518123091307005509      1564054127    248\n",
       "3              CartScreenAppear  3518123091307005509      1564054127    248\n",
       "4       PaymentScreenSuccessful  6217807653094995999      1564055322    248\n",
       "...                         ...                  ...             ...    ...\n",
       "244121         MainScreenAppear  4599628364049201812      1565212345    247\n",
       "244122         MainScreenAppear  5849806612437486590      1565212439    246\n",
       "244123         MainScreenAppear  5746969938801999050      1565212483    246\n",
       "244124         MainScreenAppear  5746969938801999050      1565212498    246\n",
       "244125       OffersScreenAppear  5746969938801999050      1565212517    246\n",
       "\n",
       "[243713 rows x 4 columns]"
      ]
     },
     "metadata": {},
     "output_type": "display_data"
    }
   ],
   "source": [
    "data.drop_duplicates(inplace=True)\n",
    "display(data)"
   ]
  },
  {
   "cell_type": "code",
   "execution_count": 8,
   "metadata": {},
   "outputs": [
    {
     "data": {
      "text/plain": [
       "67059"
      ]
     },
     "execution_count": 8,
     "metadata": {},
     "output_type": "execute_result"
    }
   ],
   "source": [
    "data['EventTimestamp'].duplicated().sum()"
   ]
  },
  {
   "cell_type": "code",
   "execution_count": 9,
   "metadata": {},
   "outputs": [
    {
     "name": "stderr",
     "output_type": "stream",
     "text": [
      "C:\\Users\\akantarevic\\Anaconda3\\lib\\site-packages\\ipykernel_launcher.py:2: FutureWarning: The pandas.datetime class is deprecated and will be removed from pandas in a future version. Import from datetime module instead.\n",
      "  \n"
     ]
    },
    {
     "data": {
      "text/html": [
       "<div>\n",
       "<style scoped>\n",
       "    .dataframe tbody tr th:only-of-type {\n",
       "        vertical-align: middle;\n",
       "    }\n",
       "\n",
       "    .dataframe tbody tr th {\n",
       "        vertical-align: top;\n",
       "    }\n",
       "\n",
       "    .dataframe thead th {\n",
       "        text-align: right;\n",
       "    }\n",
       "</style>\n",
       "<table border=\"1\" class=\"dataframe\">\n",
       "  <thead>\n",
       "    <tr style=\"text-align: right;\">\n",
       "      <th></th>\n",
       "      <th>EventName</th>\n",
       "      <th>DeviceIDHash</th>\n",
       "      <th>EventTimestamp</th>\n",
       "      <th>ExpId</th>\n",
       "      <th>date_time</th>\n",
       "      <th>date</th>\n",
       "      <th>time</th>\n",
       "    </tr>\n",
       "  </thead>\n",
       "  <tbody>\n",
       "    <tr>\n",
       "      <th>0</th>\n",
       "      <td>MainScreenAppear</td>\n",
       "      <td>4575588528974610257</td>\n",
       "      <td>1564029816</td>\n",
       "      <td>246</td>\n",
       "      <td>2019-07-24 22:43:36</td>\n",
       "      <td>2019-07-24</td>\n",
       "      <td>22:43:36</td>\n",
       "    </tr>\n",
       "    <tr>\n",
       "      <th>1</th>\n",
       "      <td>MainScreenAppear</td>\n",
       "      <td>7416695313311560658</td>\n",
       "      <td>1564053102</td>\n",
       "      <td>246</td>\n",
       "      <td>2019-07-25 05:11:42</td>\n",
       "      <td>2019-07-25</td>\n",
       "      <td>05:11:42</td>\n",
       "    </tr>\n",
       "    <tr>\n",
       "      <th>2</th>\n",
       "      <td>PaymentScreenSuccessful</td>\n",
       "      <td>3518123091307005509</td>\n",
       "      <td>1564054127</td>\n",
       "      <td>248</td>\n",
       "      <td>2019-07-25 05:28:47</td>\n",
       "      <td>2019-07-25</td>\n",
       "      <td>05:28:47</td>\n",
       "    </tr>\n",
       "    <tr>\n",
       "      <th>3</th>\n",
       "      <td>CartScreenAppear</td>\n",
       "      <td>3518123091307005509</td>\n",
       "      <td>1564054127</td>\n",
       "      <td>248</td>\n",
       "      <td>2019-07-25 05:28:47</td>\n",
       "      <td>2019-07-25</td>\n",
       "      <td>05:28:47</td>\n",
       "    </tr>\n",
       "    <tr>\n",
       "      <th>4</th>\n",
       "      <td>PaymentScreenSuccessful</td>\n",
       "      <td>6217807653094995999</td>\n",
       "      <td>1564055322</td>\n",
       "      <td>248</td>\n",
       "      <td>2019-07-25 05:48:42</td>\n",
       "      <td>2019-07-25</td>\n",
       "      <td>05:48:42</td>\n",
       "    </tr>\n",
       "    <tr>\n",
       "      <th>...</th>\n",
       "      <td>...</td>\n",
       "      <td>...</td>\n",
       "      <td>...</td>\n",
       "      <td>...</td>\n",
       "      <td>...</td>\n",
       "      <td>...</td>\n",
       "      <td>...</td>\n",
       "    </tr>\n",
       "    <tr>\n",
       "      <th>244121</th>\n",
       "      <td>MainScreenAppear</td>\n",
       "      <td>4599628364049201812</td>\n",
       "      <td>1565212345</td>\n",
       "      <td>247</td>\n",
       "      <td>2019-08-07 15:12:25</td>\n",
       "      <td>2019-08-07</td>\n",
       "      <td>15:12:25</td>\n",
       "    </tr>\n",
       "    <tr>\n",
       "      <th>244122</th>\n",
       "      <td>MainScreenAppear</td>\n",
       "      <td>5849806612437486590</td>\n",
       "      <td>1565212439</td>\n",
       "      <td>246</td>\n",
       "      <td>2019-08-07 15:13:59</td>\n",
       "      <td>2019-08-07</td>\n",
       "      <td>15:13:59</td>\n",
       "    </tr>\n",
       "    <tr>\n",
       "      <th>244123</th>\n",
       "      <td>MainScreenAppear</td>\n",
       "      <td>5746969938801999050</td>\n",
       "      <td>1565212483</td>\n",
       "      <td>246</td>\n",
       "      <td>2019-08-07 15:14:43</td>\n",
       "      <td>2019-08-07</td>\n",
       "      <td>15:14:43</td>\n",
       "    </tr>\n",
       "    <tr>\n",
       "      <th>244124</th>\n",
       "      <td>MainScreenAppear</td>\n",
       "      <td>5746969938801999050</td>\n",
       "      <td>1565212498</td>\n",
       "      <td>246</td>\n",
       "      <td>2019-08-07 15:14:58</td>\n",
       "      <td>2019-08-07</td>\n",
       "      <td>15:14:58</td>\n",
       "    </tr>\n",
       "    <tr>\n",
       "      <th>244125</th>\n",
       "      <td>OffersScreenAppear</td>\n",
       "      <td>5746969938801999050</td>\n",
       "      <td>1565212517</td>\n",
       "      <td>246</td>\n",
       "      <td>2019-08-07 15:15:17</td>\n",
       "      <td>2019-08-07</td>\n",
       "      <td>15:15:17</td>\n",
       "    </tr>\n",
       "  </tbody>\n",
       "</table>\n",
       "<p>243713 rows × 7 columns</p>\n",
       "</div>"
      ],
      "text/plain": [
       "                      EventName         DeviceIDHash  EventTimestamp  ExpId  \\\n",
       "0              MainScreenAppear  4575588528974610257      1564029816    246   \n",
       "1              MainScreenAppear  7416695313311560658      1564053102    246   \n",
       "2       PaymentScreenSuccessful  3518123091307005509      1564054127    248   \n",
       "3              CartScreenAppear  3518123091307005509      1564054127    248   \n",
       "4       PaymentScreenSuccessful  6217807653094995999      1564055322    248   \n",
       "...                         ...                  ...             ...    ...   \n",
       "244121         MainScreenAppear  4599628364049201812      1565212345    247   \n",
       "244122         MainScreenAppear  5849806612437486590      1565212439    246   \n",
       "244123         MainScreenAppear  5746969938801999050      1565212483    246   \n",
       "244124         MainScreenAppear  5746969938801999050      1565212498    246   \n",
       "244125       OffersScreenAppear  5746969938801999050      1565212517    246   \n",
       "\n",
       "                 date_time        date      time  \n",
       "0      2019-07-24 22:43:36  2019-07-24  22:43:36  \n",
       "1      2019-07-25 05:11:42  2019-07-25  05:11:42  \n",
       "2      2019-07-25 05:28:47  2019-07-25  05:28:47  \n",
       "3      2019-07-25 05:28:47  2019-07-25  05:28:47  \n",
       "4      2019-07-25 05:48:42  2019-07-25  05:48:42  \n",
       "...                    ...         ...       ...  \n",
       "244121 2019-08-07 15:12:25  2019-08-07  15:12:25  \n",
       "244122 2019-08-07 15:13:59  2019-08-07  15:13:59  \n",
       "244123 2019-08-07 15:14:43  2019-08-07  15:14:43  \n",
       "244124 2019-08-07 15:14:58  2019-08-07  15:14:58  \n",
       "244125 2019-08-07 15:15:17  2019-08-07  15:15:17  \n",
       "\n",
       "[243713 rows x 7 columns]"
      ]
     },
     "execution_count": 9,
     "metadata": {},
     "output_type": "execute_result"
    }
   ],
   "source": [
    "# changing date \n",
    "data['date_time'] = data['EventTimestamp'].apply(lambda x: pd.datetime.fromtimestamp(x))\n",
    "data\n",
    "#date column\n",
    "data['date'] = data['date_time'].dt.date\n",
    "data\n",
    "#time column\n",
    "data['time'] = data['date_time'].dt.time\n",
    "data"
   ]
  },
  {
   "cell_type": "code",
   "execution_count": 10,
   "metadata": {},
   "outputs": [
    {
     "data": {
      "text/plain": [
       "datetime.date(2019, 8, 7)"
      ]
     },
     "execution_count": 10,
     "metadata": {},
     "output_type": "execute_result"
    }
   ],
   "source": [
    "data['date'].max() "
   ]
  },
  {
   "cell_type": "code",
   "execution_count": 11,
   "metadata": {},
   "outputs": [
    {
     "data": {
      "text/plain": [
       "datetime.date(2019, 7, 24)"
      ]
     },
     "execution_count": 11,
     "metadata": {},
     "output_type": "execute_result"
    }
   ],
   "source": [
    "data['date'].min() "
   ]
  },
  {
   "cell_type": "markdown",
   "metadata": {},
   "source": [
    "data['EventTimestamp'] = pd.to_datetime(data['EventTimestamp'], format='%Y%m%d%H%M%S', unit='ms')\n",
    "data"
   ]
  },
  {
   "cell_type": "code",
   "execution_count": 12,
   "metadata": {},
   "outputs": [],
   "source": [
    "data= data.rename(columns={\"EventName\": \"Event\", \"DeviceIDHash\": \"DeviceId\"})"
   ]
  },
  {
   "cell_type": "markdown",
   "metadata": {},
   "source": [
    "#### Conclusion:\n",
    "* Looks as if there are no null values. Date has been converted and split up."
   ]
  },
  {
   "cell_type": "markdown",
   "metadata": {},
   "source": [
    "### Step 3"
   ]
  },
  {
   "cell_type": "markdown",
   "metadata": {},
   "source": [
    "#### How many events are in the logs?"
   ]
  },
  {
   "cell_type": "code",
   "execution_count": 13,
   "metadata": {},
   "outputs": [
    {
     "name": "stdout",
     "output_type": "stream",
     "text": [
      "MainScreenAppear           119101\n",
      "OffersScreenAppear          46808\n",
      "CartScreenAppear            42668\n",
      "PaymentScreenSuccessful     34118\n",
      "Tutorial                     1018\n",
      "Name: Event, dtype: int64\n"
     ]
    }
   ],
   "source": [
    "print(data['Event'].value_counts().head())"
   ]
  },
  {
   "cell_type": "code",
   "execution_count": 14,
   "metadata": {},
   "outputs": [
    {
     "data": {
      "text/plain": [
       "Event    243713\n",
       "dtype: int64"
      ]
     },
     "execution_count": 14,
     "metadata": {},
     "output_type": "execute_result"
    }
   ],
   "source": [
    "event_sessions_total = data.groupby('Event').agg({'Event':'count'}).sum()\n",
    "event_sessions_total"
   ]
  },
  {
   "cell_type": "code",
   "execution_count": 15,
   "metadata": {},
   "outputs": [
    {
     "data": {
      "text/plain": [
       "Event    48742.6\n",
       "dtype: float64"
      ]
     },
     "execution_count": 15,
     "metadata": {},
     "output_type": "execute_result"
    }
   ],
   "source": [
    "event_sessions_avg = data.groupby('Event').agg({'Event':'count'}).mean()\n",
    "event_sessions_avg"
   ]
  },
  {
   "cell_type": "markdown",
   "metadata": {},
   "source": [
    "#### How many users are in the logs?"
   ]
  },
  {
   "cell_type": "markdown",
   "metadata": {},
   "source": [
    "data['DeviceId'].count()\n",
    "#How many users are in the logs?"
   ]
  },
  {
   "cell_type": "code",
   "execution_count": 16,
   "metadata": {},
   "outputs": [
    {
     "data": {
      "text/plain": [
       "DeviceId    243713\n",
       "dtype: int64"
      ]
     },
     "execution_count": 16,
     "metadata": {},
     "output_type": "execute_result"
    }
   ],
   "source": [
    "user_sessions_total = data.groupby('DeviceId').agg({'DeviceId':'count'}).sum()\n",
    "user_sessions_total"
   ]
  },
  {
   "cell_type": "code",
   "execution_count": 17,
   "metadata": {},
   "outputs": [
    {
     "data": {
      "text/plain": [
       "DeviceId    32.275593\n",
       "dtype: float64"
      ]
     },
     "execution_count": 17,
     "metadata": {},
     "output_type": "execute_result"
    }
   ],
   "source": [
    "user_sessions_avg = data.groupby('DeviceId').agg({'DeviceId':'count'}).mean()\n",
    "user_sessions_avg"
   ]
  },
  {
   "cell_type": "code",
   "execution_count": 18,
   "metadata": {},
   "outputs": [
    {
     "name": "stdout",
     "output_type": "stream",
     "text": [
      "6304868067479728361    2307\n",
      "197027893265565660     1998\n",
      "4623191541214045580    1768\n",
      "6932517045703054087    1439\n",
      "1754140665440434215    1221\n",
      "Name: DeviceId, dtype: int64\n"
     ]
    }
   ],
   "source": [
    "print(data['DeviceId'].value_counts().head())\n"
   ]
  },
  {
   "cell_type": "markdown",
   "metadata": {},
   "source": [
    "data['date_time'] = data['EventTimestamp'].apply(lambda x: pd.datetime.fromtimestamp(x))\n",
    "#data['date'] = pd.to_datetime(data['date_time'], format='%H:%M:%S')\n",
    "data"
   ]
  },
  {
   "cell_type": "code",
   "execution_count": 19,
   "metadata": {},
   "outputs": [
    {
     "name": "stderr",
     "output_type": "stream",
     "text": [
      "C:\\Users\\akantarevic\\Anaconda3\\lib\\site-packages\\ipykernel_launcher.py:2: FutureWarning: The pandas.datetime class is deprecated and will be removed from pandas in a future version. Import from datetime module instead.\n",
      "  \n"
     ]
    },
    {
     "data": {
      "text/html": [
       "<div>\n",
       "<style scoped>\n",
       "    .dataframe tbody tr th:only-of-type {\n",
       "        vertical-align: middle;\n",
       "    }\n",
       "\n",
       "    .dataframe tbody tr th {\n",
       "        vertical-align: top;\n",
       "    }\n",
       "\n",
       "    .dataframe thead th {\n",
       "        text-align: right;\n",
       "    }\n",
       "</style>\n",
       "<table border=\"1\" class=\"dataframe\">\n",
       "  <thead>\n",
       "    <tr style=\"text-align: right;\">\n",
       "      <th></th>\n",
       "      <th>Event</th>\n",
       "      <th>DeviceId</th>\n",
       "      <th>EventTimestamp</th>\n",
       "      <th>ExpId</th>\n",
       "      <th>date_time</th>\n",
       "      <th>date</th>\n",
       "      <th>time</th>\n",
       "    </tr>\n",
       "  </thead>\n",
       "  <tbody>\n",
       "    <tr>\n",
       "      <th>0</th>\n",
       "      <td>MainScreenAppear</td>\n",
       "      <td>4575588528974610257</td>\n",
       "      <td>1564029816</td>\n",
       "      <td>246</td>\n",
       "      <td>2019-07-24 22:43:36</td>\n",
       "      <td>2019-07-24</td>\n",
       "      <td>22:43:36</td>\n",
       "    </tr>\n",
       "    <tr>\n",
       "      <th>1</th>\n",
       "      <td>MainScreenAppear</td>\n",
       "      <td>7416695313311560658</td>\n",
       "      <td>1564053102</td>\n",
       "      <td>246</td>\n",
       "      <td>2019-07-25 05:11:42</td>\n",
       "      <td>2019-07-25</td>\n",
       "      <td>05:11:42</td>\n",
       "    </tr>\n",
       "    <tr>\n",
       "      <th>2</th>\n",
       "      <td>PaymentScreenSuccessful</td>\n",
       "      <td>3518123091307005509</td>\n",
       "      <td>1564054127</td>\n",
       "      <td>248</td>\n",
       "      <td>2019-07-25 05:28:47</td>\n",
       "      <td>2019-07-25</td>\n",
       "      <td>05:28:47</td>\n",
       "    </tr>\n",
       "    <tr>\n",
       "      <th>3</th>\n",
       "      <td>CartScreenAppear</td>\n",
       "      <td>3518123091307005509</td>\n",
       "      <td>1564054127</td>\n",
       "      <td>248</td>\n",
       "      <td>2019-07-25 05:28:47</td>\n",
       "      <td>2019-07-25</td>\n",
       "      <td>05:28:47</td>\n",
       "    </tr>\n",
       "    <tr>\n",
       "      <th>4</th>\n",
       "      <td>PaymentScreenSuccessful</td>\n",
       "      <td>6217807653094995999</td>\n",
       "      <td>1564055322</td>\n",
       "      <td>248</td>\n",
       "      <td>2019-07-25 05:48:42</td>\n",
       "      <td>2019-07-25</td>\n",
       "      <td>05:48:42</td>\n",
       "    </tr>\n",
       "    <tr>\n",
       "      <th>...</th>\n",
       "      <td>...</td>\n",
       "      <td>...</td>\n",
       "      <td>...</td>\n",
       "      <td>...</td>\n",
       "      <td>...</td>\n",
       "      <td>...</td>\n",
       "      <td>...</td>\n",
       "    </tr>\n",
       "    <tr>\n",
       "      <th>244121</th>\n",
       "      <td>MainScreenAppear</td>\n",
       "      <td>4599628364049201812</td>\n",
       "      <td>1565212345</td>\n",
       "      <td>247</td>\n",
       "      <td>2019-08-07 15:12:25</td>\n",
       "      <td>2019-08-07</td>\n",
       "      <td>15:12:25</td>\n",
       "    </tr>\n",
       "    <tr>\n",
       "      <th>244122</th>\n",
       "      <td>MainScreenAppear</td>\n",
       "      <td>5849806612437486590</td>\n",
       "      <td>1565212439</td>\n",
       "      <td>246</td>\n",
       "      <td>2019-08-07 15:13:59</td>\n",
       "      <td>2019-08-07</td>\n",
       "      <td>15:13:59</td>\n",
       "    </tr>\n",
       "    <tr>\n",
       "      <th>244123</th>\n",
       "      <td>MainScreenAppear</td>\n",
       "      <td>5746969938801999050</td>\n",
       "      <td>1565212483</td>\n",
       "      <td>246</td>\n",
       "      <td>2019-08-07 15:14:43</td>\n",
       "      <td>2019-08-07</td>\n",
       "      <td>15:14:43</td>\n",
       "    </tr>\n",
       "    <tr>\n",
       "      <th>244124</th>\n",
       "      <td>MainScreenAppear</td>\n",
       "      <td>5746969938801999050</td>\n",
       "      <td>1565212498</td>\n",
       "      <td>246</td>\n",
       "      <td>2019-08-07 15:14:58</td>\n",
       "      <td>2019-08-07</td>\n",
       "      <td>15:14:58</td>\n",
       "    </tr>\n",
       "    <tr>\n",
       "      <th>244125</th>\n",
       "      <td>OffersScreenAppear</td>\n",
       "      <td>5746969938801999050</td>\n",
       "      <td>1565212517</td>\n",
       "      <td>246</td>\n",
       "      <td>2019-08-07 15:15:17</td>\n",
       "      <td>2019-08-07</td>\n",
       "      <td>15:15:17</td>\n",
       "    </tr>\n",
       "  </tbody>\n",
       "</table>\n",
       "<p>243713 rows × 7 columns</p>\n",
       "</div>"
      ],
      "text/plain": [
       "                          Event             DeviceId  EventTimestamp  ExpId  \\\n",
       "0              MainScreenAppear  4575588528974610257      1564029816    246   \n",
       "1              MainScreenAppear  7416695313311560658      1564053102    246   \n",
       "2       PaymentScreenSuccessful  3518123091307005509      1564054127    248   \n",
       "3              CartScreenAppear  3518123091307005509      1564054127    248   \n",
       "4       PaymentScreenSuccessful  6217807653094995999      1564055322    248   \n",
       "...                         ...                  ...             ...    ...   \n",
       "244121         MainScreenAppear  4599628364049201812      1565212345    247   \n",
       "244122         MainScreenAppear  5849806612437486590      1565212439    246   \n",
       "244123         MainScreenAppear  5746969938801999050      1565212483    246   \n",
       "244124         MainScreenAppear  5746969938801999050      1565212498    246   \n",
       "244125       OffersScreenAppear  5746969938801999050      1565212517    246   \n",
       "\n",
       "                 date_time        date      time  \n",
       "0      2019-07-24 22:43:36  2019-07-24  22:43:36  \n",
       "1      2019-07-25 05:11:42  2019-07-25  05:11:42  \n",
       "2      2019-07-25 05:28:47  2019-07-25  05:28:47  \n",
       "3      2019-07-25 05:28:47  2019-07-25  05:28:47  \n",
       "4      2019-07-25 05:48:42  2019-07-25  05:48:42  \n",
       "...                    ...         ...       ...  \n",
       "244121 2019-08-07 15:12:25  2019-08-07  15:12:25  \n",
       "244122 2019-08-07 15:13:59  2019-08-07  15:13:59  \n",
       "244123 2019-08-07 15:14:43  2019-08-07  15:14:43  \n",
       "244124 2019-08-07 15:14:58  2019-08-07  15:14:58  \n",
       "244125 2019-08-07 15:15:17  2019-08-07  15:15:17  \n",
       "\n",
       "[243713 rows x 7 columns]"
      ]
     },
     "execution_count": 19,
     "metadata": {},
     "output_type": "execute_result"
    }
   ],
   "source": [
    "# changing date \n",
    "data['date_time'] = data['EventTimestamp'].apply(lambda x: pd.datetime.fromtimestamp(x))\n",
    "data\n",
    "#date column\n",
    "data['date'] = data['date_time'].dt.date\n",
    "data\n",
    "#time column\n",
    "data['time'] = data['date_time'].dt.time\n",
    "data"
   ]
  },
  {
   "cell_type": "code",
   "execution_count": 20,
   "metadata": {},
   "outputs": [
    {
     "data": {
      "text/plain": [
       "0"
      ]
     },
     "execution_count": 20,
     "metadata": {},
     "output_type": "execute_result"
    }
   ],
   "source": [
    "data.duplicated().sum()"
   ]
  },
  {
   "cell_type": "markdown",
   "metadata": {},
   "source": [
    "#### What's the average number of events per user?\n"
   ]
  },
  {
   "cell_type": "code",
   "execution_count": 21,
   "metadata": {},
   "outputs": [
    {
     "data": {
      "text/html": [
       "<div>\n",
       "<style scoped>\n",
       "    .dataframe tbody tr th:only-of-type {\n",
       "        vertical-align: middle;\n",
       "    }\n",
       "\n",
       "    .dataframe tbody tr th {\n",
       "        vertical-align: top;\n",
       "    }\n",
       "\n",
       "    .dataframe thead th {\n",
       "        text-align: right;\n",
       "    }\n",
       "</style>\n",
       "<table border=\"1\" class=\"dataframe\">\n",
       "  <thead>\n",
       "    <tr style=\"text-align: right;\">\n",
       "      <th></th>\n",
       "      <th>Event</th>\n",
       "    </tr>\n",
       "    <tr>\n",
       "      <th>DeviceId</th>\n",
       "      <th></th>\n",
       "    </tr>\n",
       "  </thead>\n",
       "  <tbody>\n",
       "    <tr>\n",
       "      <th>6304868067479728361</th>\n",
       "      <td>2307</td>\n",
       "    </tr>\n",
       "    <tr>\n",
       "      <th>197027893265565660</th>\n",
       "      <td>1998</td>\n",
       "    </tr>\n",
       "    <tr>\n",
       "      <th>4623191541214045580</th>\n",
       "      <td>1768</td>\n",
       "    </tr>\n",
       "    <tr>\n",
       "      <th>6932517045703054087</th>\n",
       "      <td>1439</td>\n",
       "    </tr>\n",
       "    <tr>\n",
       "      <th>1754140665440434215</th>\n",
       "      <td>1221</td>\n",
       "    </tr>\n",
       "  </tbody>\n",
       "</table>\n",
       "</div>"
      ],
      "text/plain": [
       "                     Event\n",
       "DeviceId                  \n",
       "6304868067479728361   2307\n",
       "197027893265565660    1998\n",
       "4623191541214045580   1768\n",
       "6932517045703054087   1439\n",
       "1754140665440434215   1221"
      ]
     },
     "execution_count": 21,
     "metadata": {},
     "output_type": "execute_result"
    }
   ],
   "source": [
    "AvgEventsPerUser = data.groupby('DeviceId').agg({'Event':'count'})\n",
    "AvgEventsPerUser.sort_values(by='Event',ascending=False).head()"
   ]
  },
  {
   "cell_type": "code",
   "execution_count": 22,
   "metadata": {},
   "outputs": [
    {
     "data": {
      "text/html": [
       "<div>\n",
       "<style scoped>\n",
       "    .dataframe tbody tr th:only-of-type {\n",
       "        vertical-align: middle;\n",
       "    }\n",
       "\n",
       "    .dataframe tbody tr th {\n",
       "        vertical-align: top;\n",
       "    }\n",
       "\n",
       "    .dataframe thead th {\n",
       "        text-align: right;\n",
       "    }\n",
       "</style>\n",
       "<table border=\"1\" class=\"dataframe\">\n",
       "  <thead>\n",
       "    <tr style=\"text-align: right;\">\n",
       "      <th></th>\n",
       "      <th>DeviceId</th>\n",
       "      <th>Event</th>\n",
       "    </tr>\n",
       "  </thead>\n",
       "  <tbody>\n",
       "    <tr>\n",
       "      <th>0</th>\n",
       "      <td>9222603179720523844</td>\n",
       "      <td>59</td>\n",
       "    </tr>\n",
       "    <tr>\n",
       "      <th>1</th>\n",
       "      <td>9221926045299980007</td>\n",
       "      <td>7</td>\n",
       "    </tr>\n",
       "    <tr>\n",
       "      <th>2</th>\n",
       "      <td>9220879493065341500</td>\n",
       "      <td>7</td>\n",
       "    </tr>\n",
       "    <tr>\n",
       "      <th>3</th>\n",
       "      <td>9219463515465815368</td>\n",
       "      <td>17</td>\n",
       "    </tr>\n",
       "    <tr>\n",
       "      <th>4</th>\n",
       "      <td>9217594193087726423</td>\n",
       "      <td>9</td>\n",
       "    </tr>\n",
       "    <tr>\n",
       "      <th>...</th>\n",
       "      <td>...</td>\n",
       "      <td>...</td>\n",
       "    </tr>\n",
       "    <tr>\n",
       "      <th>7546</th>\n",
       "      <td>7702139951469979</td>\n",
       "      <td>137</td>\n",
       "    </tr>\n",
       "    <tr>\n",
       "      <th>7547</th>\n",
       "      <td>7435777799948366</td>\n",
       "      <td>6</td>\n",
       "    </tr>\n",
       "    <tr>\n",
       "      <th>7548</th>\n",
       "      <td>6922444491712477</td>\n",
       "      <td>47</td>\n",
       "    </tr>\n",
       "    <tr>\n",
       "      <th>7549</th>\n",
       "      <td>6909561520679493</td>\n",
       "      <td>5</td>\n",
       "    </tr>\n",
       "    <tr>\n",
       "      <th>7550</th>\n",
       "      <td>6888746892508752</td>\n",
       "      <td>1</td>\n",
       "    </tr>\n",
       "  </tbody>\n",
       "</table>\n",
       "<p>7551 rows × 2 columns</p>\n",
       "</div>"
      ],
      "text/plain": [
       "                 DeviceId  Event\n",
       "0     9222603179720523844     59\n",
       "1     9221926045299980007      7\n",
       "2     9220879493065341500      7\n",
       "3     9219463515465815368     17\n",
       "4     9217594193087726423      9\n",
       "...                   ...    ...\n",
       "7546     7702139951469979    137\n",
       "7547     7435777799948366      6\n",
       "7548     6922444491712477     47\n",
       "7549     6909561520679493      5\n",
       "7550     6888746892508752      1\n",
       "\n",
       "[7551 rows x 2 columns]"
      ]
     },
     "execution_count": 22,
     "metadata": {},
     "output_type": "execute_result"
    }
   ],
   "source": [
    "#AvgEvents_PerUser = data.groupby('Event').agg({'Event':'mean'})\n",
    "AvgEvents_PerUser1 = data.pivot_table(index='DeviceId', values='Event',aggfunc='count').sort_values(by='DeviceId', ascending=False).reset_index()\n",
    "AvgEvents_PerUser1"
   ]
  },
  {
   "cell_type": "code",
   "execution_count": 23,
   "metadata": {},
   "outputs": [
    {
     "data": {
      "text/plain": [
       "DeviceId    4.677319e+18\n",
       "Event       3.227559e+01\n",
       "dtype: float64"
      ]
     },
     "execution_count": 23,
     "metadata": {},
     "output_type": "execute_result"
    }
   ],
   "source": [
    "AvgEvents_PerUser1.mean()"
   ]
  },
  {
   "cell_type": "code",
   "execution_count": 24,
   "metadata": {},
   "outputs": [
    {
     "data": {
      "text/plain": [
       "Event    32.275593\n",
       "dtype: float64"
      ]
     },
     "execution_count": 24,
     "metadata": {},
     "output_type": "execute_result"
    }
   ],
   "source": [
    "AvgEvents_PerUser = data.groupby('DeviceId').agg({'Event':'count'}).mean()\n",
    "AvgEvents_PerUser\n",
    "#TotalEvents_PerUser.sort_values(by='Event',ascending=False).head()"
   ]
  },
  {
   "cell_type": "markdown",
   "metadata": {},
   "source": [
    "### Step 3"
   ]
  },
  {
   "cell_type": "markdown",
   "metadata": {},
   "source": [
    "#### What period of time does the data cover? \n",
    "\n",
    "* Find the maximum and the minimum date. \n",
    "* Plot a histogram by date and time. \n",
    "    1. Can you be sure that you have equally complete data for the entire period? Older events could end up in some users' logs for technical reasons, and this could skew the overall picture. \n",
    "    \n",
    "* Find the moment at which the data starts to be complete and ignore the earlier section. \n",
    "   1. What period does the data actually represent? \n",
    "   Did you lose many events and users when excluding the older data?"
   ]
  },
  {
   "cell_type": "code",
   "execution_count": 25,
   "metadata": {},
   "outputs": [],
   "source": [
    "#max and min date"
   ]
  },
  {
   "cell_type": "code",
   "execution_count": 26,
   "metadata": {},
   "outputs": [
    {
     "name": "stdout",
     "output_type": "stream",
     "text": [
      "the maximum date is 2019-08-07\n",
      "the minimum date is 2019-07-24\n"
     ]
    }
   ],
   "source": [
    "max_date= data['date'].max() \n",
    "print('the maximum date is', max_date)\n",
    "\n",
    "()\n",
    "min_date = data['date'].min() \n",
    "print('the minimum date is', min_date)\n",
    "# Covers 14 days/2 weeks"
   ]
  },
  {
   "cell_type": "code",
   "execution_count": 27,
   "metadata": {},
   "outputs": [],
   "source": [
    "import sys\n",
    "import warnings\n",
    "if not sys.warnoptions:\n",
    "       warnings.simplefilter(\"ignore\")"
   ]
  },
  {
   "cell_type": "code",
   "execution_count": 28,
   "metadata": {},
   "outputs": [
    {
     "data": {
      "image/png": "[encoded data removed]",
      "text/plain": [
       "<Figure size 432x288 with 1 Axes>"
      ]
     },
     "metadata": {
      "needs_background": "light"
     },
     "output_type": "display_data"
    }
   ],
   "source": [
    "data['date_time'].hist(bins=50)\n",
    "plt.xticks(rotation=45)\n",
    "plt.title(\"Session Date Counts\")\n",
    "plt.ylabel(\"Count\")\n",
    "plt.xlabel(\"Log Dates\")\n",
    "plt.show()\n",
    "\n",
    "# shows that after 7-31 there is a lot more data in the event logs"
   ]
  },
  {
   "cell_type": "code",
   "execution_count": 29,
   "metadata": {},
   "outputs": [
    {
     "data": {
      "text/html": [
       "<div>\n",
       "<style scoped>\n",
       "    .dataframe tbody tr th:only-of-type {\n",
       "        vertical-align: middle;\n",
       "    }\n",
       "\n",
       "    .dataframe tbody tr th {\n",
       "        vertical-align: top;\n",
       "    }\n",
       "\n",
       "    .dataframe thead th {\n",
       "        text-align: right;\n",
       "    }\n",
       "</style>\n",
       "<table border=\"1\" class=\"dataframe\">\n",
       "  <thead>\n",
       "    <tr style=\"text-align: right;\">\n",
       "      <th></th>\n",
       "      <th>Event</th>\n",
       "      <th>DeviceId</th>\n",
       "      <th>EventTimestamp</th>\n",
       "      <th>ExpId</th>\n",
       "      <th>date_time</th>\n",
       "      <th>date</th>\n",
       "      <th>time</th>\n",
       "    </tr>\n",
       "  </thead>\n",
       "  <tbody>\n",
       "    <tr>\n",
       "      <th>6189</th>\n",
       "      <td>MainScreenAppear</td>\n",
       "      <td>1389658498134948314</td>\n",
       "      <td>1564639203</td>\n",
       "      <td>248</td>\n",
       "      <td>2019-08-01 00:00:03</td>\n",
       "      <td>2019-08-01</td>\n",
       "      <td>00:00:03</td>\n",
       "    </tr>\n",
       "    <tr>\n",
       "      <th>6190</th>\n",
       "      <td>OffersScreenAppear</td>\n",
       "      <td>375723631317187672</td>\n",
       "      <td>1564639207</td>\n",
       "      <td>246</td>\n",
       "      <td>2019-08-01 00:00:07</td>\n",
       "      <td>2019-08-01</td>\n",
       "      <td>00:00:07</td>\n",
       "    </tr>\n",
       "    <tr>\n",
       "      <th>6191</th>\n",
       "      <td>MainScreenAppear</td>\n",
       "      <td>7375258168734936936</td>\n",
       "      <td>1564639207</td>\n",
       "      <td>248</td>\n",
       "      <td>2019-08-01 00:00:07</td>\n",
       "      <td>2019-08-01</td>\n",
       "      <td>00:00:07</td>\n",
       "    </tr>\n",
       "    <tr>\n",
       "      <th>6192</th>\n",
       "      <td>MainScreenAppear</td>\n",
       "      <td>6956382183518365612</td>\n",
       "      <td>1564639207</td>\n",
       "      <td>247</td>\n",
       "      <td>2019-08-01 00:00:07</td>\n",
       "      <td>2019-08-01</td>\n",
       "      <td>00:00:07</td>\n",
       "    </tr>\n",
       "    <tr>\n",
       "      <th>6193</th>\n",
       "      <td>MainScreenAppear</td>\n",
       "      <td>2180779893563165231</td>\n",
       "      <td>1564639212</td>\n",
       "      <td>247</td>\n",
       "      <td>2019-08-01 00:00:12</td>\n",
       "      <td>2019-08-01</td>\n",
       "      <td>00:00:12</td>\n",
       "    </tr>\n",
       "    <tr>\n",
       "      <th>...</th>\n",
       "      <td>...</td>\n",
       "      <td>...</td>\n",
       "      <td>...</td>\n",
       "      <td>...</td>\n",
       "      <td>...</td>\n",
       "      <td>...</td>\n",
       "      <td>...</td>\n",
       "    </tr>\n",
       "    <tr>\n",
       "      <th>244121</th>\n",
       "      <td>MainScreenAppear</td>\n",
       "      <td>4599628364049201812</td>\n",
       "      <td>1565212345</td>\n",
       "      <td>247</td>\n",
       "      <td>2019-08-07 15:12:25</td>\n",
       "      <td>2019-08-07</td>\n",
       "      <td>15:12:25</td>\n",
       "    </tr>\n",
       "    <tr>\n",
       "      <th>244122</th>\n",
       "      <td>MainScreenAppear</td>\n",
       "      <td>5849806612437486590</td>\n",
       "      <td>1565212439</td>\n",
       "      <td>246</td>\n",
       "      <td>2019-08-07 15:13:59</td>\n",
       "      <td>2019-08-07</td>\n",
       "      <td>15:13:59</td>\n",
       "    </tr>\n",
       "    <tr>\n",
       "      <th>244123</th>\n",
       "      <td>MainScreenAppear</td>\n",
       "      <td>5746969938801999050</td>\n",
       "      <td>1565212483</td>\n",
       "      <td>246</td>\n",
       "      <td>2019-08-07 15:14:43</td>\n",
       "      <td>2019-08-07</td>\n",
       "      <td>15:14:43</td>\n",
       "    </tr>\n",
       "    <tr>\n",
       "      <th>244124</th>\n",
       "      <td>MainScreenAppear</td>\n",
       "      <td>5746969938801999050</td>\n",
       "      <td>1565212498</td>\n",
       "      <td>246</td>\n",
       "      <td>2019-08-07 15:14:58</td>\n",
       "      <td>2019-08-07</td>\n",
       "      <td>15:14:58</td>\n",
       "    </tr>\n",
       "    <tr>\n",
       "      <th>244125</th>\n",
       "      <td>OffersScreenAppear</td>\n",
       "      <td>5746969938801999050</td>\n",
       "      <td>1565212517</td>\n",
       "      <td>246</td>\n",
       "      <td>2019-08-07 15:15:17</td>\n",
       "      <td>2019-08-07</td>\n",
       "      <td>15:15:17</td>\n",
       "    </tr>\n",
       "  </tbody>\n",
       "</table>\n",
       "<p>237531 rows × 7 columns</p>\n",
       "</div>"
      ],
      "text/plain": [
       "                     Event             DeviceId  EventTimestamp  ExpId  \\\n",
       "6189      MainScreenAppear  1389658498134948314      1564639203    248   \n",
       "6190    OffersScreenAppear   375723631317187672      1564639207    246   \n",
       "6191      MainScreenAppear  7375258168734936936      1564639207    248   \n",
       "6192      MainScreenAppear  6956382183518365612      1564639207    247   \n",
       "6193      MainScreenAppear  2180779893563165231      1564639212    247   \n",
       "...                    ...                  ...             ...    ...   \n",
       "244121    MainScreenAppear  4599628364049201812      1565212345    247   \n",
       "244122    MainScreenAppear  5849806612437486590      1565212439    246   \n",
       "244123    MainScreenAppear  5746969938801999050      1565212483    246   \n",
       "244124    MainScreenAppear  5746969938801999050      1565212498    246   \n",
       "244125  OffersScreenAppear  5746969938801999050      1565212517    246   \n",
       "\n",
       "                 date_time       date      time  \n",
       "6189   2019-08-01 00:00:03 2019-08-01  00:00:03  \n",
       "6190   2019-08-01 00:00:07 2019-08-01  00:00:07  \n",
       "6191   2019-08-01 00:00:07 2019-08-01  00:00:07  \n",
       "6192   2019-08-01 00:00:07 2019-08-01  00:00:07  \n",
       "6193   2019-08-01 00:00:12 2019-08-01  00:00:12  \n",
       "...                    ...        ...       ...  \n",
       "244121 2019-08-07 15:12:25 2019-08-07  15:12:25  \n",
       "244122 2019-08-07 15:13:59 2019-08-07  15:13:59  \n",
       "244123 2019-08-07 15:14:43 2019-08-07  15:14:43  \n",
       "244124 2019-08-07 15:14:58 2019-08-07  15:14:58  \n",
       "244125 2019-08-07 15:15:17 2019-08-07  15:15:17  \n",
       "\n",
       "[237531 rows x 7 columns]"
      ]
     },
     "execution_count": 29,
     "metadata": {},
     "output_type": "execute_result"
    }
   ],
   "source": [
    "data['date'] = pd.to_datetime(data['date'])\n",
    "new_data = data.loc[data['date'] > '2019-07-31']\n",
    "new_data"
   ]
  },
  {
   "cell_type": "code",
   "execution_count": 30,
   "metadata": {},
   "outputs": [
    {
     "data": {
      "text/html": [
       "<div>\n",
       "<style scoped>\n",
       "    .dataframe tbody tr th:only-of-type {\n",
       "        vertical-align: middle;\n",
       "    }\n",
       "\n",
       "    .dataframe tbody tr th {\n",
       "        vertical-align: top;\n",
       "    }\n",
       "\n",
       "    .dataframe thead th {\n",
       "        text-align: right;\n",
       "    }\n",
       "</style>\n",
       "<table border=\"1\" class=\"dataframe\">\n",
       "  <thead>\n",
       "    <tr style=\"text-align: right;\">\n",
       "      <th></th>\n",
       "      <th>DeviceId</th>\n",
       "    </tr>\n",
       "    <tr>\n",
       "      <th>date</th>\n",
       "      <th></th>\n",
       "    </tr>\n",
       "  </thead>\n",
       "  <tbody>\n",
       "    <tr>\n",
       "      <th>2019-07-24</th>\n",
       "      <td>1</td>\n",
       "    </tr>\n",
       "    <tr>\n",
       "      <th>2019-07-25</th>\n",
       "      <td>10</td>\n",
       "    </tr>\n",
       "    <tr>\n",
       "      <th>2019-07-26</th>\n",
       "      <td>30</td>\n",
       "    </tr>\n",
       "    <tr>\n",
       "      <th>2019-07-27</th>\n",
       "      <td>66</td>\n",
       "    </tr>\n",
       "    <tr>\n",
       "      <th>2019-07-28</th>\n",
       "      <td>101</td>\n",
       "    </tr>\n",
       "    <tr>\n",
       "      <th>2019-07-29</th>\n",
       "      <td>209</td>\n",
       "    </tr>\n",
       "    <tr>\n",
       "      <th>2019-07-30</th>\n",
       "      <td>445</td>\n",
       "    </tr>\n",
       "    <tr>\n",
       "      <th>2019-07-31</th>\n",
       "      <td>5320</td>\n",
       "    </tr>\n",
       "  </tbody>\n",
       "</table>\n",
       "</div>"
      ],
      "text/plain": [
       "            DeviceId\n",
       "date                \n",
       "2019-07-24         1\n",
       "2019-07-25        10\n",
       "2019-07-26        30\n",
       "2019-07-27        66\n",
       "2019-07-28       101\n",
       "2019-07-29       209\n",
       "2019-07-30       445\n",
       "2019-07-31      5320"
      ]
     },
     "execution_count": 30,
     "metadata": {},
     "output_type": "execute_result"
    }
   ],
   "source": [
    "DeviceIdbyDateTotal = data.pivot_table(index='date', values='DeviceId', aggfunc='count' )\n",
    "DeviceIdbyDateTotal.head(8)\n",
    "\n",
    "#Lost 6189 rows of data"
   ]
  },
  {
   "cell_type": "code",
   "execution_count": 31,
   "metadata": {},
   "outputs": [
    {
     "data": {
      "text/html": [
       "<div>\n",
       "<style scoped>\n",
       "    .dataframe tbody tr th:only-of-type {\n",
       "        vertical-align: middle;\n",
       "    }\n",
       "\n",
       "    .dataframe tbody tr th {\n",
       "        vertical-align: top;\n",
       "    }\n",
       "\n",
       "    .dataframe thead th {\n",
       "        text-align: right;\n",
       "    }\n",
       "</style>\n",
       "<table border=\"1\" class=\"dataframe\">\n",
       "  <thead>\n",
       "    <tr style=\"text-align: right;\">\n",
       "      <th></th>\n",
       "      <th>DeviceId</th>\n",
       "    </tr>\n",
       "    <tr>\n",
       "      <th>date</th>\n",
       "      <th></th>\n",
       "    </tr>\n",
       "  </thead>\n",
       "  <tbody>\n",
       "    <tr>\n",
       "      <th>2019-08-01</th>\n",
       "      <td>37598</td>\n",
       "    </tr>\n",
       "    <tr>\n",
       "      <th>2019-08-02</th>\n",
       "      <td>33531</td>\n",
       "    </tr>\n",
       "    <tr>\n",
       "      <th>2019-08-03</th>\n",
       "      <td>33260</td>\n",
       "    </tr>\n",
       "    <tr>\n",
       "      <th>2019-08-04</th>\n",
       "      <td>33603</td>\n",
       "    </tr>\n",
       "    <tr>\n",
       "      <th>2019-08-05</th>\n",
       "      <td>37089</td>\n",
       "    </tr>\n",
       "    <tr>\n",
       "      <th>2019-08-06</th>\n",
       "      <td>34977</td>\n",
       "    </tr>\n",
       "    <tr>\n",
       "      <th>2019-08-07</th>\n",
       "      <td>27473</td>\n",
       "    </tr>\n",
       "  </tbody>\n",
       "</table>\n",
       "</div>"
      ],
      "text/plain": [
       "            DeviceId\n",
       "date                \n",
       "2019-08-01     37598\n",
       "2019-08-02     33531\n",
       "2019-08-03     33260\n",
       "2019-08-04     33603\n",
       "2019-08-05     37089\n",
       "2019-08-06     34977\n",
       "2019-08-07     27473"
      ]
     },
     "execution_count": 31,
     "metadata": {},
     "output_type": "execute_result"
    }
   ],
   "source": [
    "NewDeviceIdbyDateTotal = new_data.pivot_table(index='date', values='DeviceId', aggfunc='count' )\n",
    "NewDeviceIdbyDateTotal\n"
   ]
  },
  {
   "cell_type": "code",
   "execution_count": 32,
   "metadata": {},
   "outputs": [
    {
     "data": {
      "text/html": [
       "<div>\n",
       "<style scoped>\n",
       "    .dataframe tbody tr th:only-of-type {\n",
       "        vertical-align: middle;\n",
       "    }\n",
       "\n",
       "    .dataframe tbody tr th {\n",
       "        vertical-align: top;\n",
       "    }\n",
       "\n",
       "    .dataframe thead th {\n",
       "        text-align: right;\n",
       "    }\n",
       "</style>\n",
       "<table border=\"1\" class=\"dataframe\">\n",
       "  <thead>\n",
       "    <tr style=\"text-align: right;\">\n",
       "      <th></th>\n",
       "      <th>DeviceId</th>\n",
       "    </tr>\n",
       "    <tr>\n",
       "      <th>Event</th>\n",
       "      <th></th>\n",
       "    </tr>\n",
       "  </thead>\n",
       "  <tbody>\n",
       "    <tr>\n",
       "      <th>CartScreenAppear</th>\n",
       "      <td>42668</td>\n",
       "    </tr>\n",
       "    <tr>\n",
       "      <th>MainScreenAppear</th>\n",
       "      <td>119101</td>\n",
       "    </tr>\n",
       "    <tr>\n",
       "      <th>OffersScreenAppear</th>\n",
       "      <td>46808</td>\n",
       "    </tr>\n",
       "    <tr>\n",
       "      <th>PaymentScreenSuccessful</th>\n",
       "      <td>34118</td>\n",
       "    </tr>\n",
       "    <tr>\n",
       "      <th>Tutorial</th>\n",
       "      <td>1018</td>\n",
       "    </tr>\n",
       "  </tbody>\n",
       "</table>\n",
       "</div>"
      ],
      "text/plain": [
       "                         DeviceId\n",
       "Event                            \n",
       "CartScreenAppear            42668\n",
       "MainScreenAppear           119101\n",
       "OffersScreenAppear          46808\n",
       "PaymentScreenSuccessful     34118\n",
       "Tutorial                     1018"
      ]
     },
     "execution_count": 32,
     "metadata": {},
     "output_type": "execute_result"
    }
   ],
   "source": [
    "date_counts = data.pivot_table(index='Event', values='DeviceId', aggfunc='count' )\n",
    "date_counts.head(40)"
   ]
  },
  {
   "cell_type": "code",
   "execution_count": 33,
   "metadata": {},
   "outputs": [
    {
     "data": {
      "text/html": [
       "<div>\n",
       "<style scoped>\n",
       "    .dataframe tbody tr th:only-of-type {\n",
       "        vertical-align: middle;\n",
       "    }\n",
       "\n",
       "    .dataframe tbody tr th {\n",
       "        vertical-align: top;\n",
       "    }\n",
       "\n",
       "    .dataframe thead th {\n",
       "        text-align: right;\n",
       "    }\n",
       "</style>\n",
       "<table border=\"1\" class=\"dataframe\">\n",
       "  <thead>\n",
       "    <tr style=\"text-align: right;\">\n",
       "      <th></th>\n",
       "      <th>DeviceId</th>\n",
       "    </tr>\n",
       "    <tr>\n",
       "      <th>Event</th>\n",
       "      <th></th>\n",
       "    </tr>\n",
       "  </thead>\n",
       "  <tbody>\n",
       "    <tr>\n",
       "      <th>CartScreenAppear</th>\n",
       "      <td>42054</td>\n",
       "    </tr>\n",
       "    <tr>\n",
       "      <th>MainScreenAppear</th>\n",
       "      <td>115161</td>\n",
       "    </tr>\n",
       "    <tr>\n",
       "      <th>OffersScreenAppear</th>\n",
       "      <td>45608</td>\n",
       "    </tr>\n",
       "    <tr>\n",
       "      <th>PaymentScreenSuccessful</th>\n",
       "      <td>33719</td>\n",
       "    </tr>\n",
       "    <tr>\n",
       "      <th>Tutorial</th>\n",
       "      <td>989</td>\n",
       "    </tr>\n",
       "  </tbody>\n",
       "</table>\n",
       "</div>"
      ],
      "text/plain": [
       "                         DeviceId\n",
       "Event                            \n",
       "CartScreenAppear            42054\n",
       "MainScreenAppear           115161\n",
       "OffersScreenAppear          45608\n",
       "PaymentScreenSuccessful     33719\n",
       "Tutorial                      989"
      ]
     },
     "execution_count": 33,
     "metadata": {},
     "output_type": "execute_result"
    }
   ],
   "source": [
    "new_date_counts = new_data.pivot_table(index='Event', values='DeviceId', aggfunc='count' )\n",
    "new_date_counts.head(40)"
   ]
  },
  {
   "cell_type": "code",
   "execution_count": 34,
   "metadata": {},
   "outputs": [
    {
     "data": {
      "text/html": [
       "<div>\n",
       "<style scoped>\n",
       "    .dataframe tbody tr th:only-of-type {\n",
       "        vertical-align: middle;\n",
       "    }\n",
       "\n",
       "    .dataframe tbody tr th {\n",
       "        vertical-align: top;\n",
       "    }\n",
       "\n",
       "    .dataframe thead th {\n",
       "        text-align: right;\n",
       "    }\n",
       "</style>\n",
       "<table border=\"1\" class=\"dataframe\">\n",
       "  <thead>\n",
       "    <tr style=\"text-align: right;\">\n",
       "      <th></th>\n",
       "      <th>DeviceId</th>\n",
       "    </tr>\n",
       "    <tr>\n",
       "      <th>ExpId</th>\n",
       "      <th></th>\n",
       "    </tr>\n",
       "  </thead>\n",
       "  <tbody>\n",
       "    <tr>\n",
       "      <th>246</th>\n",
       "      <td>80181</td>\n",
       "    </tr>\n",
       "    <tr>\n",
       "      <th>247</th>\n",
       "      <td>77950</td>\n",
       "    </tr>\n",
       "    <tr>\n",
       "      <th>248</th>\n",
       "      <td>85582</td>\n",
       "    </tr>\n",
       "  </tbody>\n",
       "</table>\n",
       "</div>"
      ],
      "text/plain": [
       "       DeviceId\n",
       "ExpId          \n",
       "246       80181\n",
       "247       77950\n",
       "248       85582"
      ]
     },
     "execution_count": 34,
     "metadata": {},
     "output_type": "execute_result"
    }
   ],
   "source": [
    "ExpIdCountOld = data.pivot_table(index='ExpId', values='DeviceId', aggfunc='count' )\n",
    "ExpIdCountOld"
   ]
  },
  {
   "cell_type": "code",
   "execution_count": 35,
   "metadata": {},
   "outputs": [
    {
     "data": {
      "text/html": [
       "<div>\n",
       "<style scoped>\n",
       "    .dataframe tbody tr th:only-of-type {\n",
       "        vertical-align: middle;\n",
       "    }\n",
       "\n",
       "    .dataframe tbody tr th {\n",
       "        vertical-align: top;\n",
       "    }\n",
       "\n",
       "    .dataframe thead th {\n",
       "        text-align: right;\n",
       "    }\n",
       "</style>\n",
       "<table border=\"1\" class=\"dataframe\">\n",
       "  <thead>\n",
       "    <tr style=\"text-align: right;\">\n",
       "      <th></th>\n",
       "      <th>DeviceId</th>\n",
       "    </tr>\n",
       "    <tr>\n",
       "      <th>ExpId</th>\n",
       "      <th></th>\n",
       "    </tr>\n",
       "  </thead>\n",
       "  <tbody>\n",
       "    <tr>\n",
       "      <th>246</th>\n",
       "      <td>78290</td>\n",
       "    </tr>\n",
       "    <tr>\n",
       "      <th>247</th>\n",
       "      <td>75802</td>\n",
       "    </tr>\n",
       "    <tr>\n",
       "      <th>248</th>\n",
       "      <td>83439</td>\n",
       "    </tr>\n",
       "  </tbody>\n",
       "</table>\n",
       "</div>"
      ],
      "text/plain": [
       "       DeviceId\n",
       "ExpId          \n",
       "246       78290\n",
       "247       75802\n",
       "248       83439"
      ]
     },
     "execution_count": 35,
     "metadata": {},
     "output_type": "execute_result"
    }
   ],
   "source": [
    "ExpIdCountNew = new_data.pivot_table(index='ExpId', values='DeviceId', aggfunc='count' )\n",
    "ExpIdCountNew"
   ]
  },
  {
   "cell_type": "markdown",
   "metadata": {},
   "source": [
    "<div class=\"alert alert-info\" role=\"alert\">\n",
    "\n",
    "#### Conclusion\n",
    "* Original unfiltered data shows max and min dates and the data length covering two weeks. However, we saw that not all the data was relevant so we had to cut some out and decided it was better to start after 7-31.\n",
    "- % OF old data is less than 1% as you can see so its okay. \n",
    "- We still have data on users from all expiremental groups.\n",
    "- Evaluating the newer data we are able to see certain trends and behaviors better based off what screen they visit and other criteria like experiment groups. "
   ]
  },
  {
   "cell_type": "markdown",
   "metadata": {},
   "source": [
    "### Step 4"
   ]
  },
  {
   "cell_type": "markdown",
   "metadata": {},
   "source": [
    "#### Study the event funnel\n",
    "- See what events are in the logs and their frequency of occurrence. Sort them by frequency.\n",
    "- Find the number of users who performed each of these actions. Sort the events by the number of users. Calculate the proportion of users who performed the action at least once.\n",
    "- In what order do you think the actions took place. Are all of them part of a single sequence? You don't need to take them into account when calculating the funnel.\n",
    "- Use the event funnel to find the share of users that proceed from each stage to the next. (For instance, for the sequence of events A → B → C, calculate the ratio of users at stage B to the number of users at stage A and the ratio of users at stage C to the number at stage B.)\n",
    "- At what stage do you lose the most users?\n",
    "- What share of users make the entire journey from their first event to payment?"
   ]
  },
  {
   "cell_type": "code",
   "execution_count": 36,
   "metadata": {},
   "outputs": [
    {
     "data": {
      "text/html": [
       "<div>\n",
       "<style scoped>\n",
       "    .dataframe tbody tr th:only-of-type {\n",
       "        vertical-align: middle;\n",
       "    }\n",
       "\n",
       "    .dataframe tbody tr th {\n",
       "        vertical-align: top;\n",
       "    }\n",
       "\n",
       "    .dataframe thead th {\n",
       "        text-align: right;\n",
       "    }\n",
       "</style>\n",
       "<table border=\"1\" class=\"dataframe\">\n",
       "  <thead>\n",
       "    <tr style=\"text-align: right;\">\n",
       "      <th></th>\n",
       "      <th>Event</th>\n",
       "      <th>DeviceId</th>\n",
       "      <th>EventTimestamp</th>\n",
       "      <th>ExpId</th>\n",
       "      <th>date_time</th>\n",
       "      <th>date</th>\n",
       "      <th>time</th>\n",
       "    </tr>\n",
       "  </thead>\n",
       "  <tbody>\n",
       "    <tr>\n",
       "      <th>0</th>\n",
       "      <td>MainScreenAppear</td>\n",
       "      <td>4575588528974610257</td>\n",
       "      <td>1564029816</td>\n",
       "      <td>246</td>\n",
       "      <td>2019-07-24 22:43:36</td>\n",
       "      <td>2019-07-24</td>\n",
       "      <td>22:43:36</td>\n",
       "    </tr>\n",
       "    <tr>\n",
       "      <th>1</th>\n",
       "      <td>MainScreenAppear</td>\n",
       "      <td>7416695313311560658</td>\n",
       "      <td>1564053102</td>\n",
       "      <td>246</td>\n",
       "      <td>2019-07-25 05:11:42</td>\n",
       "      <td>2019-07-25</td>\n",
       "      <td>05:11:42</td>\n",
       "    </tr>\n",
       "    <tr>\n",
       "      <th>2</th>\n",
       "      <td>PaymentScreenSuccessful</td>\n",
       "      <td>3518123091307005509</td>\n",
       "      <td>1564054127</td>\n",
       "      <td>248</td>\n",
       "      <td>2019-07-25 05:28:47</td>\n",
       "      <td>2019-07-25</td>\n",
       "      <td>05:28:47</td>\n",
       "    </tr>\n",
       "    <tr>\n",
       "      <th>3</th>\n",
       "      <td>CartScreenAppear</td>\n",
       "      <td>3518123091307005509</td>\n",
       "      <td>1564054127</td>\n",
       "      <td>248</td>\n",
       "      <td>2019-07-25 05:28:47</td>\n",
       "      <td>2019-07-25</td>\n",
       "      <td>05:28:47</td>\n",
       "    </tr>\n",
       "    <tr>\n",
       "      <th>4</th>\n",
       "      <td>PaymentScreenSuccessful</td>\n",
       "      <td>6217807653094995999</td>\n",
       "      <td>1564055322</td>\n",
       "      <td>248</td>\n",
       "      <td>2019-07-25 05:48:42</td>\n",
       "      <td>2019-07-25</td>\n",
       "      <td>05:48:42</td>\n",
       "    </tr>\n",
       "  </tbody>\n",
       "</table>\n",
       "</div>"
      ],
      "text/plain": [
       "                     Event             DeviceId  EventTimestamp  ExpId  \\\n",
       "0         MainScreenAppear  4575588528974610257      1564029816    246   \n",
       "1         MainScreenAppear  7416695313311560658      1564053102    246   \n",
       "2  PaymentScreenSuccessful  3518123091307005509      1564054127    248   \n",
       "3         CartScreenAppear  3518123091307005509      1564054127    248   \n",
       "4  PaymentScreenSuccessful  6217807653094995999      1564055322    248   \n",
       "\n",
       "            date_time       date      time  \n",
       "0 2019-07-24 22:43:36 2019-07-24  22:43:36  \n",
       "1 2019-07-25 05:11:42 2019-07-25  05:11:42  \n",
       "2 2019-07-25 05:28:47 2019-07-25  05:28:47  \n",
       "3 2019-07-25 05:28:47 2019-07-25  05:28:47  \n",
       "4 2019-07-25 05:48:42 2019-07-25  05:48:42  "
      ]
     },
     "execution_count": 36,
     "metadata": {},
     "output_type": "execute_result"
    }
   ],
   "source": [
    "data.head()"
   ]
  },
  {
   "cell_type": "code",
   "execution_count": 37,
   "metadata": {},
   "outputs": [
    {
     "data": {
      "text/html": [
       "<div>\n",
       "<style scoped>\n",
       "    .dataframe tbody tr th:only-of-type {\n",
       "        vertical-align: middle;\n",
       "    }\n",
       "\n",
       "    .dataframe tbody tr th {\n",
       "        vertical-align: top;\n",
       "    }\n",
       "\n",
       "    .dataframe thead th {\n",
       "        text-align: right;\n",
       "    }\n",
       "</style>\n",
       "<table border=\"1\" class=\"dataframe\">\n",
       "  <thead>\n",
       "    <tr style=\"text-align: right;\">\n",
       "      <th></th>\n",
       "      <th>DeviceId</th>\n",
       "      <th>Event</th>\n",
       "    </tr>\n",
       "    <tr>\n",
       "      <th>Event</th>\n",
       "      <th></th>\n",
       "      <th></th>\n",
       "    </tr>\n",
       "  </thead>\n",
       "  <tbody>\n",
       "    <tr>\n",
       "      <th>MainScreenAppear</th>\n",
       "      <td>7439</td>\n",
       "      <td>1</td>\n",
       "    </tr>\n",
       "    <tr>\n",
       "      <th>OffersScreenAppear</th>\n",
       "      <td>4613</td>\n",
       "      <td>1</td>\n",
       "    </tr>\n",
       "    <tr>\n",
       "      <th>CartScreenAppear</th>\n",
       "      <td>3749</td>\n",
       "      <td>1</td>\n",
       "    </tr>\n",
       "    <tr>\n",
       "      <th>PaymentScreenSuccessful</th>\n",
       "      <td>3547</td>\n",
       "      <td>1</td>\n",
       "    </tr>\n",
       "    <tr>\n",
       "      <th>Tutorial</th>\n",
       "      <td>847</td>\n",
       "      <td>1</td>\n",
       "    </tr>\n",
       "  </tbody>\n",
       "</table>\n",
       "</div>"
      ],
      "text/plain": [
       "                         DeviceId  Event\n",
       "Event                                   \n",
       "MainScreenAppear             7439      1\n",
       "OffersScreenAppear           4613      1\n",
       "CartScreenAppear             3749      1\n",
       "PaymentScreenSuccessful      3547      1\n",
       "Tutorial                      847      1"
      ]
     },
     "execution_count": 37,
     "metadata": {},
     "output_type": "execute_result"
    }
   ],
   "source": [
    "ExpIdbyDate = data.pivot_table(index='Event', values='DeviceId',aggfunc='nunique')\n",
    "ExpIdbyDate.sort_values(by='DeviceId',ascending=False)"
   ]
  },
  {
   "cell_type": "code",
   "execution_count": 38,
   "metadata": {},
   "outputs": [],
   "source": [
    "#EventsbyUsers="
   ]
  },
  {
   "cell_type": "code",
   "execution_count": 39,
   "metadata": {},
   "outputs": [
    {
     "name": "stdout",
     "output_type": "stream",
     "text": [
      "Average Daily Usage: 3637\n"
     ]
    }
   ],
   "source": [
    "dau_total = new_data.groupby('date').agg({'DeviceId': 'nunique'}).mean()\n",
    "print('Average Daily Usage:', int(dau_total))\n",
    "\n",
    "#wau_total = visits.groupby(['start_year', 'start_week']).agg({'Uid': 'nunique'}).mean()\n",
    "#print('Average Monthly Usage:', int(mau_total))\n"
   ]
  },
  {
   "cell_type": "code",
   "execution_count": 40,
   "metadata": {
    "scrolled": false
   },
   "outputs": [
    {
     "data": {
      "text/html": [
       "<div>\n",
       "<style scoped>\n",
       "    .dataframe tbody tr th:only-of-type {\n",
       "        vertical-align: middle;\n",
       "    }\n",
       "\n",
       "    .dataframe tbody tr th {\n",
       "        vertical-align: top;\n",
       "    }\n",
       "\n",
       "    .dataframe thead th {\n",
       "        text-align: right;\n",
       "    }\n",
       "</style>\n",
       "<table border=\"1\" class=\"dataframe\">\n",
       "  <thead>\n",
       "    <tr style=\"text-align: right;\">\n",
       "      <th>Event</th>\n",
       "      <th>CartScreenAppear</th>\n",
       "      <th>MainScreenAppear</th>\n",
       "      <th>OffersScreenAppear</th>\n",
       "      <th>PaymentScreenSuccessful</th>\n",
       "      <th>Tutorial</th>\n",
       "    </tr>\n",
       "    <tr>\n",
       "      <th>DeviceId</th>\n",
       "      <th></th>\n",
       "      <th></th>\n",
       "      <th></th>\n",
       "      <th></th>\n",
       "      <th></th>\n",
       "    </tr>\n",
       "  </thead>\n",
       "  <tbody>\n",
       "    <tr>\n",
       "      <th>6888746892508752</th>\n",
       "      <td>NaN</td>\n",
       "      <td>08:06:34</td>\n",
       "      <td>NaN</td>\n",
       "      <td>NaN</td>\n",
       "      <td>NaN</td>\n",
       "    </tr>\n",
       "    <tr>\n",
       "      <th>6909561520679493</th>\n",
       "      <td>12:52:58</td>\n",
       "      <td>12:52:54</td>\n",
       "      <td>12:53:04</td>\n",
       "      <td>12:52:58</td>\n",
       "      <td>NaN</td>\n",
       "    </tr>\n",
       "    <tr>\n",
       "      <th>6922444491712477</th>\n",
       "      <td>00:33:15</td>\n",
       "      <td>00:33:11</td>\n",
       "      <td>00:33:21</td>\n",
       "      <td>00:33:15</td>\n",
       "      <td>NaN</td>\n",
       "    </tr>\n",
       "    <tr>\n",
       "      <th>7435777799948366</th>\n",
       "      <td>NaN</td>\n",
       "      <td>01:55:12</td>\n",
       "      <td>NaN</td>\n",
       "      <td>NaN</td>\n",
       "      <td>NaN</td>\n",
       "    </tr>\n",
       "    <tr>\n",
       "      <th>7702139951469979</th>\n",
       "      <td>01:25:27</td>\n",
       "      <td>00:15:36</td>\n",
       "      <td>00:15:40</td>\n",
       "      <td>01:25:27</td>\n",
       "      <td>NaN</td>\n",
       "    </tr>\n",
       "    <tr>\n",
       "      <th>8486814028069281</th>\n",
       "      <td>22:49:18</td>\n",
       "      <td>22:52:40</td>\n",
       "      <td>22:49:13</td>\n",
       "      <td>NaN</td>\n",
       "      <td>NaN</td>\n",
       "    </tr>\n",
       "    <tr>\n",
       "      <th>8740973466195562</th>\n",
       "      <td>NaN</td>\n",
       "      <td>03:16:48</td>\n",
       "      <td>03:43:59</td>\n",
       "      <td>NaN</td>\n",
       "      <td>NaN</td>\n",
       "    </tr>\n",
       "    <tr>\n",
       "      <th>9841258664663090</th>\n",
       "      <td>04:52:15</td>\n",
       "      <td>04:47:59</td>\n",
       "      <td>04:49:42</td>\n",
       "      <td>09:48:35</td>\n",
       "      <td>04:47:28</td>\n",
       "    </tr>\n",
       "    <tr>\n",
       "      <th>12692216027168046</th>\n",
       "      <td>NaN</td>\n",
       "      <td>08:38:50</td>\n",
       "      <td>08:38:32</td>\n",
       "      <td>NaN</td>\n",
       "      <td>NaN</td>\n",
       "    </tr>\n",
       "    <tr>\n",
       "      <th>15708180189885246</th>\n",
       "      <td>01:08:54</td>\n",
       "      <td>01:08:18</td>\n",
       "      <td>01:09:01</td>\n",
       "      <td>01:24:58</td>\n",
       "      <td>NaN</td>\n",
       "    </tr>\n",
       "    <tr>\n",
       "      <th>18658818197810381</th>\n",
       "      <td>04:08:14</td>\n",
       "      <td>07:19:25</td>\n",
       "      <td>02:00:42</td>\n",
       "      <td>04:08:14</td>\n",
       "      <td>NaN</td>\n",
       "    </tr>\n",
       "    <tr>\n",
       "      <th>19151588103329050</th>\n",
       "      <td>NaN</td>\n",
       "      <td>15:35:51</td>\n",
       "      <td>NaN</td>\n",
       "      <td>NaN</td>\n",
       "      <td>NaN</td>\n",
       "    </tr>\n",
       "    <tr>\n",
       "      <th>20449203507642281</th>\n",
       "      <td>NaN</td>\n",
       "      <td>15:04:21</td>\n",
       "      <td>NaN</td>\n",
       "      <td>NaN</td>\n",
       "      <td>NaN</td>\n",
       "    </tr>\n",
       "    <tr>\n",
       "      <th>20795828045873027</th>\n",
       "      <td>02:01:55</td>\n",
       "      <td>02:01:47</td>\n",
       "      <td>02:01:48</td>\n",
       "      <td>02:01:55</td>\n",
       "      <td>NaN</td>\n",
       "    </tr>\n",
       "    <tr>\n",
       "      <th>24144092107925848</th>\n",
       "      <td>NaN</td>\n",
       "      <td>00:45:51</td>\n",
       "      <td>NaN</td>\n",
       "      <td>NaN</td>\n",
       "      <td>NaN</td>\n",
       "    </tr>\n",
       "    <tr>\n",
       "      <th>26317307137967461</th>\n",
       "      <td>NaN</td>\n",
       "      <td>08:33:57</td>\n",
       "      <td>NaN</td>\n",
       "      <td>NaN</td>\n",
       "      <td>NaN</td>\n",
       "    </tr>\n",
       "    <tr>\n",
       "      <th>27899413433550864</th>\n",
       "      <td>NaN</td>\n",
       "      <td>12:06:47</td>\n",
       "      <td>NaN</td>\n",
       "      <td>NaN</td>\n",
       "      <td>NaN</td>\n",
       "    </tr>\n",
       "    <tr>\n",
       "      <th>28534696657485531</th>\n",
       "      <td>07:52:26</td>\n",
       "      <td>07:52:21</td>\n",
       "      <td>07:52:39</td>\n",
       "      <td>07:52:26</td>\n",
       "      <td>NaN</td>\n",
       "    </tr>\n",
       "    <tr>\n",
       "      <th>28755862496905658</th>\n",
       "      <td>08:38:38</td>\n",
       "      <td>08:38:19</td>\n",
       "      <td>NaN</td>\n",
       "      <td>NaN</td>\n",
       "      <td>NaN</td>\n",
       "    </tr>\n",
       "    <tr>\n",
       "      <th>29094035245869447</th>\n",
       "      <td>07:15:22</td>\n",
       "      <td>04:40:43</td>\n",
       "      <td>04:40:46</td>\n",
       "      <td>09:23:05</td>\n",
       "      <td>07:13:20</td>\n",
       "    </tr>\n",
       "    <tr>\n",
       "      <th>31467376676344061</th>\n",
       "      <td>02:45:19</td>\n",
       "      <td>02:45:18</td>\n",
       "      <td>02:45:27</td>\n",
       "      <td>02:45:19</td>\n",
       "      <td>NaN</td>\n",
       "    </tr>\n",
       "    <tr>\n",
       "      <th>32131536909829030</th>\n",
       "      <td>NaN</td>\n",
       "      <td>04:16:30</td>\n",
       "      <td>03:49:25</td>\n",
       "      <td>NaN</td>\n",
       "      <td>NaN</td>\n",
       "    </tr>\n",
       "    <tr>\n",
       "      <th>32817325647882977</th>\n",
       "      <td>NaN</td>\n",
       "      <td>02:48:33</td>\n",
       "      <td>NaN</td>\n",
       "      <td>NaN</td>\n",
       "      <td>NaN</td>\n",
       "    </tr>\n",
       "    <tr>\n",
       "      <th>33176906322804559</th>\n",
       "      <td>NaN</td>\n",
       "      <td>00:14:59</td>\n",
       "      <td>01:01:49</td>\n",
       "      <td>NaN</td>\n",
       "      <td>NaN</td>\n",
       "    </tr>\n",
       "    <tr>\n",
       "      <th>33381960957324102</th>\n",
       "      <td>04:06:10</td>\n",
       "      <td>00:12:04</td>\n",
       "      <td>00:17:33</td>\n",
       "      <td>04:06:09</td>\n",
       "      <td>NaN</td>\n",
       "    </tr>\n",
       "  </tbody>\n",
       "</table>\n",
       "</div>"
      ],
      "text/plain": [
       "Event             CartScreenAppear MainScreenAppear OffersScreenAppear  \\\n",
       "DeviceId                                                                 \n",
       "6888746892508752               NaN         08:06:34                NaN   \n",
       "6909561520679493          12:52:58         12:52:54           12:53:04   \n",
       "6922444491712477          00:33:15         00:33:11           00:33:21   \n",
       "7435777799948366               NaN         01:55:12                NaN   \n",
       "7702139951469979          01:25:27         00:15:36           00:15:40   \n",
       "8486814028069281          22:49:18         22:52:40           22:49:13   \n",
       "8740973466195562               NaN         03:16:48           03:43:59   \n",
       "9841258664663090          04:52:15         04:47:59           04:49:42   \n",
       "12692216027168046              NaN         08:38:50           08:38:32   \n",
       "15708180189885246         01:08:54         01:08:18           01:09:01   \n",
       "18658818197810381         04:08:14         07:19:25           02:00:42   \n",
       "19151588103329050              NaN         15:35:51                NaN   \n",
       "20449203507642281              NaN         15:04:21                NaN   \n",
       "20795828045873027         02:01:55         02:01:47           02:01:48   \n",
       "24144092107925848              NaN         00:45:51                NaN   \n",
       "26317307137967461              NaN         08:33:57                NaN   \n",
       "27899413433550864              NaN         12:06:47                NaN   \n",
       "28534696657485531         07:52:26         07:52:21           07:52:39   \n",
       "28755862496905658         08:38:38         08:38:19                NaN   \n",
       "29094035245869447         07:15:22         04:40:43           04:40:46   \n",
       "31467376676344061         02:45:19         02:45:18           02:45:27   \n",
       "32131536909829030              NaN         04:16:30           03:49:25   \n",
       "32817325647882977              NaN         02:48:33                NaN   \n",
       "33176906322804559              NaN         00:14:59           01:01:49   \n",
       "33381960957324102         04:06:10         00:12:04           00:17:33   \n",
       "\n",
       "Event             PaymentScreenSuccessful  Tutorial  \n",
       "DeviceId                                             \n",
       "6888746892508752                      NaN       NaN  \n",
       "6909561520679493                 12:52:58       NaN  \n",
       "6922444491712477                 00:33:15       NaN  \n",
       "7435777799948366                      NaN       NaN  \n",
       "7702139951469979                 01:25:27       NaN  \n",
       "8486814028069281                      NaN       NaN  \n",
       "8740973466195562                      NaN       NaN  \n",
       "9841258664663090                 09:48:35  04:47:28  \n",
       "12692216027168046                     NaN       NaN  \n",
       "15708180189885246                01:24:58       NaN  \n",
       "18658818197810381                04:08:14       NaN  \n",
       "19151588103329050                     NaN       NaN  \n",
       "20449203507642281                     NaN       NaN  \n",
       "20795828045873027                02:01:55       NaN  \n",
       "24144092107925848                     NaN       NaN  \n",
       "26317307137967461                     NaN       NaN  \n",
       "27899413433550864                     NaN       NaN  \n",
       "28534696657485531                07:52:26       NaN  \n",
       "28755862496905658                     NaN       NaN  \n",
       "29094035245869447                09:23:05  07:13:20  \n",
       "31467376676344061                02:45:19       NaN  \n",
       "32131536909829030                     NaN       NaN  \n",
       "32817325647882977                     NaN       NaN  \n",
       "33176906322804559                     NaN       NaN  \n",
       "33381960957324102                04:06:09       NaN  "
      ]
     },
     "execution_count": 40,
     "metadata": {},
     "output_type": "execute_result"
    }
   ],
   "source": [
    "users = data.pivot_table(\n",
    "    index='DeviceId', \n",
    "    columns='Event', \n",
    "    values='time',\n",
    "    aggfunc='min')\n",
    "users.head(25)"
   ]
  },
  {
   "cell_type": "markdown",
   "metadata": {},
   "source": [
    "based off the above pivot table looks like the offer screen appears at different times. It doesnt necessarily go in order. I assume the offers screen might be like an ad. "
   ]
  },
  {
   "cell_type": "code",
   "execution_count": 41,
   "metadata": {},
   "outputs": [
    {
     "name": "stdout",
     "output_type": "stream",
     "text": [
      "Visitors: 7439 Conv% 0.5415695981362842\n",
      "Added a product to cart: 4059 Conv% 0.29550087361677346\n",
      "Started checkout: 1720 Conv% 0.1252184041933605\n",
      "Paid: 392 Conv% 0.028538147932440302\n",
      "Tutorial 126 Conv% 0.009172976121141527\n"
     ]
    }
   ],
   "source": [
    "step_1 = ~users['MainScreenAppear'].isna()\n",
    "step_2 = step_1 & (users['OffersScreenAppear'] > users['MainScreenAppear'])\n",
    "step_3 = step_2 & (users['CartScreenAppear'] > users['OffersScreenAppear'])\n",
    "step_4 = step_3 & (users['PaymentScreenSuccessful'] > users['CartScreenAppear'])\n",
    "step_5 = step_4 & (users['CartScreenAppear'] > users['Tutorial'])\n",
    "\n",
    "n_pageview = users[step_1].shape[0]\n",
    "n_add_to_cart = users[step_2].shape[0]\n",
    "n_checkout = users[step_3].shape[0]\n",
    "n_payment = users[step_4].shape[0]\n",
    "n_tutorial= users[step_5].shape[0]\n",
    "\n",
    "n_pageview_conv = (n_pageview/(n_pageview+n_add_to_cart+n_checkout+n_payment+n_tutorial))\n",
    "n_add_to_cart_conv = (n_add_to_cart/(n_pageview+n_add_to_cart+n_checkout+n_payment+n_tutorial))\n",
    "n_checkout_conv = (n_checkout/(n_pageview+n_add_to_cart+n_checkout+n_payment+n_tutorial))\n",
    "n_payment_conv = (n_payment/(n_pageview+n_add_to_cart+n_checkout+n_payment+n_tutorial))\n",
    "n_tutorial_conv = (n_tutorial/(n_pageview+n_add_to_cart+n_checkout+n_payment+n_tutorial))\n",
    "\n",
    "\n",
    "\n",
    "print('Visitors:', n_pageview, 'Conv%', n_pageview_conv)\n",
    "print('Added a product to cart:', n_add_to_cart, 'Conv%', n_add_to_cart_conv)\n",
    "print('Started checkout:', n_checkout, 'Conv%', n_checkout_conv)\n",
    "print('Paid:', n_payment, 'Conv%', n_payment_conv)\n",
    "print('Tutorial', n_tutorial, 'Conv%', n_tutorial_conv)\n",
    "\n"
   ]
  },
  {
   "cell_type": "markdown",
   "metadata": {},
   "source": [
    "Not even 1% make the journey from the 1st event to payment. Looks like we lose most people after the Main Screen because we have the biggest difference between the Main and Offer Screen."
   ]
  },
  {
   "cell_type": "markdown",
   "metadata": {},
   "source": [
    "##### conclusion - ratio of users at the different stages from one to another as shown above\n",
    "- Main Screen had 54% of users\n",
    "- Offer Screen had 29% of users\n",
    "- Check out process has 12% of users\n",
    "- Payment Screen 2.8% of users\n",
    "- Tutorial completion .09% of users"
   ]
  },
  {
   "cell_type": "markdown",
   "metadata": {},
   "source": [
    "#### Conclusion"
   ]
  },
  {
   "cell_type": "markdown",
   "metadata": {},
   "source": [
    "### Step 5"
   ]
  },
  {
   "cell_type": "markdown",
   "metadata": {},
   "source": [
    "#### Study the results of the experiment\n",
    "- How many users are there in each group? We have two control groups in the A/A test, where we check our mechanisms and calculations. See if there is a statistically significant difference between samples 246 and 247.\n",
    "- Select the most popular event. In each of the control groups, find the number of users who performed this action. Find their share. Check whether the difference between the groups is statistically significant. Repeat the procedure for all other events (it will save time if you create a special function for this test). Can you confirm that the groups were split properly?\n",
    "- Do the same thing for the group with altered fonts. Compare the results with those of each of the control groups for each event in isolation. Compare the results with the combined results for the control groups. What conclusions can you draw from the experiment?\n",
    "- What significance level have you set to test the statistical hypotheses mentioned above? Calculate how many statistical hypothesis tests you carried out. With a statistical significance level of 0.1, one in 10 results could be false. What should the significance level be? If you want to change it, run through the previous steps again and check your conclusions.2"
   ]
  },
  {
   "cell_type": "code",
   "execution_count": 42,
   "metadata": {},
   "outputs": [
    {
     "data": {
      "text/html": [
       "<div>\n",
       "<style scoped>\n",
       "    .dataframe tbody tr th:only-of-type {\n",
       "        vertical-align: middle;\n",
       "    }\n",
       "\n",
       "    .dataframe tbody tr th {\n",
       "        vertical-align: top;\n",
       "    }\n",
       "\n",
       "    .dataframe thead th {\n",
       "        text-align: right;\n",
       "    }\n",
       "</style>\n",
       "<table border=\"1\" class=\"dataframe\">\n",
       "  <thead>\n",
       "    <tr style=\"text-align: right;\">\n",
       "      <th></th>\n",
       "      <th>ExpId</th>\n",
       "      <th>DeviceId</th>\n",
       "    </tr>\n",
       "  </thead>\n",
       "  <tbody>\n",
       "    <tr>\n",
       "      <th>0</th>\n",
       "      <td>246</td>\n",
       "      <td>78290</td>\n",
       "    </tr>\n",
       "    <tr>\n",
       "      <th>1</th>\n",
       "      <td>247</td>\n",
       "      <td>75802</td>\n",
       "    </tr>\n",
       "    <tr>\n",
       "      <th>2</th>\n",
       "      <td>248</td>\n",
       "      <td>83439</td>\n",
       "    </tr>\n",
       "  </tbody>\n",
       "</table>\n",
       "</div>"
      ],
      "text/plain": [
       "   ExpId  DeviceId\n",
       "0    246     78290\n",
       "1    247     75802\n",
       "2    248     83439"
      ]
     },
     "metadata": {},
     "output_type": "display_data"
    },
    {
     "data": {
      "text/plain": [
       "Text(0.5, 0, 'Group')"
      ]
     },
     "execution_count": 42,
     "metadata": {},
     "output_type": "execute_result"
    },
    {
     "data": {
      "image/png": "[encoded data removed]",
      "text/plain": [
       "<Figure size 432x288 with 1 Axes>"
      ]
     },
     "metadata": {
      "needs_background": "light"
     },
     "output_type": "display_data"
    }
   ],
   "source": [
    "order_avg = new_data.drop(['date'], axis=1).groupby('ExpId', as_index=False).agg({'DeviceId' : 'count'})\n",
    "display(order_avg)\n",
    "barplot = order_avg.plot(x='ExpId', kind='bar')\n",
    "plt.title('Avg for Groups')\n",
    "plt.ylabel('Visits', fontsize=12)\n",
    "plt.xlabel('Group', fontsize=12)"
   ]
  },
  {
   "cell_type": "markdown",
   "metadata": {},
   "source": [
    "#### Hypothesis Test\n",
    "\n",
    "- H0 (the null hypothesis): There's not a statistically significant difference in average order size between Group 246 and Group 247\n",
    "- H1 (the alternative hypothesis): There's a statistically significant difference in average order size between Group 246 and Group 247\n",
    "- alpha value = .05"
   ]
  },
  {
   "cell_type": "code",
   "execution_count": 43,
   "metadata": {},
   "outputs": [
    {
     "name": "stdout",
     "output_type": "stream",
     "text": [
      "0.500\n",
      "-0.032\n",
      "p-value:  0.5\n",
      "H0 (the null hypothesis): there's not a statistically significant difference in average order size between Group 246 and Group 247\n"
     ]
    }
   ],
   "source": [
    "#is there a statistically significant difference between control groups 246 and 247\n",
    "import scipy.stats as stats\n",
    "print(\"{0:.3f}\".format(stats.mannwhitneyu(order_avg[order_avg['ExpId']==246]['DeviceId'], order_avg[order_avg['ExpId']==247]['DeviceId'])[1]))\n",
    "print(\"{0:.3f}\".format(order_avg[order_avg['ExpId']==247]['DeviceId'].mean()/order_avg[order_avg['ExpId']==246]['DeviceId'].mean()-1))\n",
    "alpha = .05 #significance level\n",
    "results2 = st.mannwhitneyu(order_avg[order_avg['ExpId']==246]['DeviceId'], order_avg[order_avg['ExpId']==247]['DeviceId'])\n",
    "print('p-value: ', results2.pvalue)\n",
    "if (results2.pvalue < alpha):\n",
    "    print(\"H1 (the alternative hypothesis): there is a statistically significant difference in average order size between Group 246 and Group 247\")\n",
    "else:\n",
    "    print(\"H0 (the null hypothesis): there's not a statistically significant difference in average order size between Group 246 and Group 247\")"
   ]
  },
  {
   "cell_type": "code",
   "execution_count": 44,
   "metadata": {},
   "outputs": [
    {
     "data": {
      "text/html": [
       "<div>\n",
       "<style scoped>\n",
       "    .dataframe tbody tr th:only-of-type {\n",
       "        vertical-align: middle;\n",
       "    }\n",
       "\n",
       "    .dataframe tbody tr th {\n",
       "        vertical-align: top;\n",
       "    }\n",
       "\n",
       "    .dataframe thead th {\n",
       "        text-align: right;\n",
       "    }\n",
       "</style>\n",
       "<table border=\"1\" class=\"dataframe\">\n",
       "  <thead>\n",
       "    <tr style=\"text-align: right;\">\n",
       "      <th></th>\n",
       "      <th>Event</th>\n",
       "      <th>DeviceId</th>\n",
       "    </tr>\n",
       "  </thead>\n",
       "  <tbody>\n",
       "    <tr>\n",
       "      <th>0</th>\n",
       "      <td>CartScreenAppear</td>\n",
       "      <td>42054</td>\n",
       "    </tr>\n",
       "    <tr>\n",
       "      <th>1</th>\n",
       "      <td>MainScreenAppear</td>\n",
       "      <td>115161</td>\n",
       "    </tr>\n",
       "    <tr>\n",
       "      <th>2</th>\n",
       "      <td>OffersScreenAppear</td>\n",
       "      <td>45608</td>\n",
       "    </tr>\n",
       "    <tr>\n",
       "      <th>3</th>\n",
       "      <td>PaymentScreenSuccessful</td>\n",
       "      <td>33719</td>\n",
       "    </tr>\n",
       "    <tr>\n",
       "      <th>4</th>\n",
       "      <td>Tutorial</td>\n",
       "      <td>989</td>\n",
       "    </tr>\n",
       "  </tbody>\n",
       "</table>\n",
       "</div>"
      ],
      "text/plain": [
       "                     Event  DeviceId\n",
       "0         CartScreenAppear     42054\n",
       "1         MainScreenAppear    115161\n",
       "2       OffersScreenAppear     45608\n",
       "3  PaymentScreenSuccessful     33719\n",
       "4                 Tutorial       989"
      ]
     },
     "metadata": {},
     "output_type": "display_data"
    }
   ],
   "source": [
    "pop_event = new_data.drop(['date'], axis=1).groupby('Event', as_index=False).agg({'DeviceId' : 'count'})\n",
    "display(pop_event)"
   ]
  },
  {
   "cell_type": "code",
   "execution_count": 45,
   "metadata": {},
   "outputs": [
    {
     "data": {
      "text/html": [
       "<div>\n",
       "<style scoped>\n",
       "    .dataframe tbody tr th:only-of-type {\n",
       "        vertical-align: middle;\n",
       "    }\n",
       "\n",
       "    .dataframe tbody tr th {\n",
       "        vertical-align: top;\n",
       "    }\n",
       "\n",
       "    .dataframe thead th {\n",
       "        text-align: right;\n",
       "    }\n",
       "</style>\n",
       "<table border=\"1\" class=\"dataframe\">\n",
       "  <thead>\n",
       "    <tr style=\"text-align: right;\">\n",
       "      <th></th>\n",
       "      <th>Event</th>\n",
       "      <th>DeviceId</th>\n",
       "      <th>EventTimestamp</th>\n",
       "      <th>ExpId</th>\n",
       "      <th>date_time</th>\n",
       "      <th>date</th>\n",
       "      <th>time</th>\n",
       "    </tr>\n",
       "  </thead>\n",
       "  <tbody>\n",
       "    <tr>\n",
       "      <th>6189</th>\n",
       "      <td>MainScreenAppear</td>\n",
       "      <td>1389658498134948314</td>\n",
       "      <td>1564639203</td>\n",
       "      <td>248</td>\n",
       "      <td>2019-08-01 00:00:03</td>\n",
       "      <td>2019-08-01</td>\n",
       "      <td>00:00:03</td>\n",
       "    </tr>\n",
       "    <tr>\n",
       "      <th>6191</th>\n",
       "      <td>MainScreenAppear</td>\n",
       "      <td>7375258168734936936</td>\n",
       "      <td>1564639207</td>\n",
       "      <td>248</td>\n",
       "      <td>2019-08-01 00:00:07</td>\n",
       "      <td>2019-08-01</td>\n",
       "      <td>00:00:07</td>\n",
       "    </tr>\n",
       "    <tr>\n",
       "      <th>6192</th>\n",
       "      <td>MainScreenAppear</td>\n",
       "      <td>6956382183518365612</td>\n",
       "      <td>1564639207</td>\n",
       "      <td>247</td>\n",
       "      <td>2019-08-01 00:00:07</td>\n",
       "      <td>2019-08-01</td>\n",
       "      <td>00:00:07</td>\n",
       "    </tr>\n",
       "    <tr>\n",
       "      <th>6193</th>\n",
       "      <td>MainScreenAppear</td>\n",
       "      <td>2180779893563165231</td>\n",
       "      <td>1564639212</td>\n",
       "      <td>247</td>\n",
       "      <td>2019-08-01 00:00:12</td>\n",
       "      <td>2019-08-01</td>\n",
       "      <td>00:00:12</td>\n",
       "    </tr>\n",
       "    <tr>\n",
       "      <th>6195</th>\n",
       "      <td>MainScreenAppear</td>\n",
       "      <td>8987628949126410882</td>\n",
       "      <td>1564639216</td>\n",
       "      <td>247</td>\n",
       "      <td>2019-08-01 00:00:16</td>\n",
       "      <td>2019-08-01</td>\n",
       "      <td>00:00:16</td>\n",
       "    </tr>\n",
       "    <tr>\n",
       "      <th>...</th>\n",
       "      <td>...</td>\n",
       "      <td>...</td>\n",
       "      <td>...</td>\n",
       "      <td>...</td>\n",
       "      <td>...</td>\n",
       "      <td>...</td>\n",
       "      <td>...</td>\n",
       "    </tr>\n",
       "    <tr>\n",
       "      <th>244120</th>\n",
       "      <td>MainScreenAppear</td>\n",
       "      <td>5746969938801999050</td>\n",
       "      <td>1565212331</td>\n",
       "      <td>246</td>\n",
       "      <td>2019-08-07 15:12:11</td>\n",
       "      <td>2019-08-07</td>\n",
       "      <td>15:12:11</td>\n",
       "    </tr>\n",
       "    <tr>\n",
       "      <th>244121</th>\n",
       "      <td>MainScreenAppear</td>\n",
       "      <td>4599628364049201812</td>\n",
       "      <td>1565212345</td>\n",
       "      <td>247</td>\n",
       "      <td>2019-08-07 15:12:25</td>\n",
       "      <td>2019-08-07</td>\n",
       "      <td>15:12:25</td>\n",
       "    </tr>\n",
       "    <tr>\n",
       "      <th>244122</th>\n",
       "      <td>MainScreenAppear</td>\n",
       "      <td>5849806612437486590</td>\n",
       "      <td>1565212439</td>\n",
       "      <td>246</td>\n",
       "      <td>2019-08-07 15:13:59</td>\n",
       "      <td>2019-08-07</td>\n",
       "      <td>15:13:59</td>\n",
       "    </tr>\n",
       "    <tr>\n",
       "      <th>244123</th>\n",
       "      <td>MainScreenAppear</td>\n",
       "      <td>5746969938801999050</td>\n",
       "      <td>1565212483</td>\n",
       "      <td>246</td>\n",
       "      <td>2019-08-07 15:14:43</td>\n",
       "      <td>2019-08-07</td>\n",
       "      <td>15:14:43</td>\n",
       "    </tr>\n",
       "    <tr>\n",
       "      <th>244124</th>\n",
       "      <td>MainScreenAppear</td>\n",
       "      <td>5746969938801999050</td>\n",
       "      <td>1565212498</td>\n",
       "      <td>246</td>\n",
       "      <td>2019-08-07 15:14:58</td>\n",
       "      <td>2019-08-07</td>\n",
       "      <td>15:14:58</td>\n",
       "    </tr>\n",
       "  </tbody>\n",
       "</table>\n",
       "<p>115161 rows × 7 columns</p>\n",
       "</div>"
      ],
      "text/plain": [
       "                   Event             DeviceId  EventTimestamp  ExpId  \\\n",
       "6189    MainScreenAppear  1389658498134948314      1564639203    248   \n",
       "6191    MainScreenAppear  7375258168734936936      1564639207    248   \n",
       "6192    MainScreenAppear  6956382183518365612      1564639207    247   \n",
       "6193    MainScreenAppear  2180779893563165231      1564639212    247   \n",
       "6195    MainScreenAppear  8987628949126410882      1564639216    247   \n",
       "...                  ...                  ...             ...    ...   \n",
       "244120  MainScreenAppear  5746969938801999050      1565212331    246   \n",
       "244121  MainScreenAppear  4599628364049201812      1565212345    247   \n",
       "244122  MainScreenAppear  5849806612437486590      1565212439    246   \n",
       "244123  MainScreenAppear  5746969938801999050      1565212483    246   \n",
       "244124  MainScreenAppear  5746969938801999050      1565212498    246   \n",
       "\n",
       "                 date_time       date      time  \n",
       "6189   2019-08-01 00:00:03 2019-08-01  00:00:03  \n",
       "6191   2019-08-01 00:00:07 2019-08-01  00:00:07  \n",
       "6192   2019-08-01 00:00:07 2019-08-01  00:00:07  \n",
       "6193   2019-08-01 00:00:12 2019-08-01  00:00:12  \n",
       "6195   2019-08-01 00:00:16 2019-08-01  00:00:16  \n",
       "...                    ...        ...       ...  \n",
       "244120 2019-08-07 15:12:11 2019-08-07  15:12:11  \n",
       "244121 2019-08-07 15:12:25 2019-08-07  15:12:25  \n",
       "244122 2019-08-07 15:13:59 2019-08-07  15:13:59  \n",
       "244123 2019-08-07 15:14:43 2019-08-07  15:14:43  \n",
       "244124 2019-08-07 15:14:58 2019-08-07  15:14:58  \n",
       "\n",
       "[115161 rows x 7 columns]"
      ]
     },
     "execution_count": 45,
     "metadata": {},
     "output_type": "execute_result"
    }
   ],
   "source": [
    "#mainscreenappear\n",
    "userswhoperformedmainscreen =  new_data.query('Event == \"MainScreenAppear\"')\n",
    "userswhoperformedmainscreen"
   ]
  },
  {
   "cell_type": "code",
   "execution_count": 46,
   "metadata": {},
   "outputs": [
    {
     "data": {
      "text/html": [
       "<div>\n",
       "<style scoped>\n",
       "    .dataframe tbody tr th:only-of-type {\n",
       "        vertical-align: middle;\n",
       "    }\n",
       "\n",
       "    .dataframe tbody tr th {\n",
       "        vertical-align: top;\n",
       "    }\n",
       "\n",
       "    .dataframe thead th {\n",
       "        text-align: right;\n",
       "    }\n",
       "</style>\n",
       "<table border=\"1\" class=\"dataframe\">\n",
       "  <thead>\n",
       "    <tr style=\"text-align: right;\">\n",
       "      <th></th>\n",
       "      <th>ExpId</th>\n",
       "      <th>DeviceId</th>\n",
       "    </tr>\n",
       "  </thead>\n",
       "  <tbody>\n",
       "    <tr>\n",
       "      <th>0</th>\n",
       "      <td>246</td>\n",
       "      <td>37008</td>\n",
       "    </tr>\n",
       "    <tr>\n",
       "      <th>1</th>\n",
       "      <td>247</td>\n",
       "      <td>38356</td>\n",
       "    </tr>\n",
       "    <tr>\n",
       "      <th>2</th>\n",
       "      <td>248</td>\n",
       "      <td>39797</td>\n",
       "    </tr>\n",
       "  </tbody>\n",
       "</table>\n",
       "</div>"
      ],
      "text/plain": [
       "   ExpId  DeviceId\n",
       "0    246     37008\n",
       "1    247     38356\n",
       "2    248     39797"
      ]
     },
     "execution_count": 46,
     "metadata": {},
     "output_type": "execute_result"
    }
   ],
   "source": [
    "userswhoperformedmainscreen.pivot_table(index='ExpId',values='DeviceId',aggfunc='count').sort_values(by='DeviceId', ascending=True).reset_index()"
   ]
  },
  {
   "cell_type": "markdown",
   "metadata": {},
   "source": [
    "#### Hypothesis Test\n",
    "- Check whether the difference between the groups is statistically significant for MainScreenAppear. \n",
    "- H0 (the null hypothesis): There's not a statistically significant difference in average order size between Group 246 and Group 247\n",
    "- H1 (the alternative hypothesis): There's a statistically significant difference in average order size between Group 246 and Group 247\n",
    "- alpha value = .05"
   ]
  },
  {
   "cell_type": "code",
   "execution_count": 47,
   "metadata": {},
   "outputs": [
    {
     "name": "stdout",
     "output_type": "stream",
     "text": [
      "0.000\n",
      "0.019\n",
      "p-value:  5.840494329666505e-06\n",
      "H1 (the alternative hypothesis): there is a statistically significant difference in average order size between Group 246 and Group 247\n"
     ]
    }
   ],
   "source": [
    "print(\"{0:.3f}\".format(stats.mannwhitneyu(userswhoperformedmainscreen[userswhoperformedmainscreen['ExpId']==246]['DeviceId'], userswhoperformedmainscreen[userswhoperformedmainscreen['ExpId']==247]['DeviceId'])[1]))\n",
    "print(\"{0:.3f}\".format(userswhoperformedmainscreen[userswhoperformedmainscreen['ExpId']==247]['DeviceId'].mean()/userswhoperformedmainscreen[userswhoperformedmainscreen['ExpId']==246]['DeviceId'].mean()-1)) \n",
    "\n",
    "alpha = .05 #significance level\n",
    "\n",
    "results2 = st.mannwhitneyu(userswhoperformedmainscreen[userswhoperformedmainscreen['ExpId']==246]['DeviceId'], userswhoperformedmainscreen[userswhoperformedmainscreen['ExpId']==247]['DeviceId'])\n",
    "\n",
    "print('p-value: ', results2.pvalue)\n",
    "\n",
    "if (results2.pvalue < alpha):\n",
    "    print(\"H1 (the alternative hypothesis): there is a statistically significant difference in average order size between Group 246 and Group 247\")\n",
    "else:\n",
    "    print(\"H0 (the null hypothesis): there's not a statistically significant difference in average order size between Group 246 and Group 247\")"
   ]
  },
  {
   "cell_type": "code",
   "execution_count": 48,
   "metadata": {},
   "outputs": [
    {
     "data": {
      "text/html": [
       "<div>\n",
       "<style scoped>\n",
       "    .dataframe tbody tr th:only-of-type {\n",
       "        vertical-align: middle;\n",
       "    }\n",
       "\n",
       "    .dataframe tbody tr th {\n",
       "        vertical-align: top;\n",
       "    }\n",
       "\n",
       "    .dataframe thead th {\n",
       "        text-align: right;\n",
       "    }\n",
       "</style>\n",
       "<table border=\"1\" class=\"dataframe\">\n",
       "  <thead>\n",
       "    <tr style=\"text-align: right;\">\n",
       "      <th></th>\n",
       "      <th>days_to_order_group</th>\n",
       "      <th>Cart</th>\n",
       "      <th>Main</th>\n",
       "      <th>Offers</th>\n",
       "      <th>Payment</th>\n",
       "      <th>Tutorial</th>\n",
       "    </tr>\n",
       "    <tr>\n",
       "      <th>Event</th>\n",
       "      <th>ExpId</th>\n",
       "      <th></th>\n",
       "      <th></th>\n",
       "      <th></th>\n",
       "      <th></th>\n",
       "      <th></th>\n",
       "    </tr>\n",
       "  </thead>\n",
       "  <tbody>\n",
       "    <tr>\n",
       "      <th rowspan=\"3\" valign=\"top\">CartScreenAppear</th>\n",
       "      <th>246</th>\n",
       "      <td>1265</td>\n",
       "      <td>0</td>\n",
       "      <td>0</td>\n",
       "      <td>0</td>\n",
       "      <td>0</td>\n",
       "    </tr>\n",
       "    <tr>\n",
       "      <th>247</th>\n",
       "      <td>1235</td>\n",
       "      <td>0</td>\n",
       "      <td>0</td>\n",
       "      <td>0</td>\n",
       "      <td>0</td>\n",
       "    </tr>\n",
       "    <tr>\n",
       "      <th>248</th>\n",
       "      <td>1228</td>\n",
       "      <td>0</td>\n",
       "      <td>0</td>\n",
       "      <td>0</td>\n",
       "      <td>0</td>\n",
       "    </tr>\n",
       "    <tr>\n",
       "      <th rowspan=\"3\" valign=\"top\">MainScreenAppear</th>\n",
       "      <th>246</th>\n",
       "      <td>0</td>\n",
       "      <td>2444</td>\n",
       "      <td>0</td>\n",
       "      <td>0</td>\n",
       "      <td>0</td>\n",
       "    </tr>\n",
       "    <tr>\n",
       "      <th>247</th>\n",
       "      <td>0</td>\n",
       "      <td>2472</td>\n",
       "      <td>0</td>\n",
       "      <td>0</td>\n",
       "      <td>0</td>\n",
       "    </tr>\n",
       "    <tr>\n",
       "      <th>248</th>\n",
       "      <td>0</td>\n",
       "      <td>2484</td>\n",
       "      <td>0</td>\n",
       "      <td>0</td>\n",
       "      <td>0</td>\n",
       "    </tr>\n",
       "    <tr>\n",
       "      <th rowspan=\"3\" valign=\"top\">OffersScreenAppear</th>\n",
       "      <th>246</th>\n",
       "      <td>0</td>\n",
       "      <td>0</td>\n",
       "      <td>1536</td>\n",
       "      <td>0</td>\n",
       "      <td>0</td>\n",
       "    </tr>\n",
       "    <tr>\n",
       "      <th>247</th>\n",
       "      <td>0</td>\n",
       "      <td>0</td>\n",
       "      <td>1512</td>\n",
       "      <td>0</td>\n",
       "      <td>0</td>\n",
       "    </tr>\n",
       "    <tr>\n",
       "      <th>248</th>\n",
       "      <td>0</td>\n",
       "      <td>0</td>\n",
       "      <td>1528</td>\n",
       "      <td>0</td>\n",
       "      <td>0</td>\n",
       "    </tr>\n",
       "    <tr>\n",
       "      <th rowspan=\"3\" valign=\"top\">PaymentScreenSuccessful</th>\n",
       "      <th>246</th>\n",
       "      <td>0</td>\n",
       "      <td>0</td>\n",
       "      <td>0</td>\n",
       "      <td>1198</td>\n",
       "      <td>0</td>\n",
       "    </tr>\n",
       "    <tr>\n",
       "      <th>247</th>\n",
       "      <td>0</td>\n",
       "      <td>0</td>\n",
       "      <td>0</td>\n",
       "      <td>1155</td>\n",
       "      <td>0</td>\n",
       "    </tr>\n",
       "    <tr>\n",
       "      <th>248</th>\n",
       "      <td>0</td>\n",
       "      <td>0</td>\n",
       "      <td>0</td>\n",
       "      <td>1179</td>\n",
       "      <td>0</td>\n",
       "    </tr>\n",
       "    <tr>\n",
       "      <th rowspan=\"3\" valign=\"top\">Tutorial</th>\n",
       "      <th>246</th>\n",
       "      <td>0</td>\n",
       "      <td>0</td>\n",
       "      <td>0</td>\n",
       "      <td>0</td>\n",
       "      <td>274</td>\n",
       "    </tr>\n",
       "    <tr>\n",
       "      <th>247</th>\n",
       "      <td>0</td>\n",
       "      <td>0</td>\n",
       "      <td>0</td>\n",
       "      <td>0</td>\n",
       "      <td>276</td>\n",
       "    </tr>\n",
       "    <tr>\n",
       "      <th>248</th>\n",
       "      <td>0</td>\n",
       "      <td>0</td>\n",
       "      <td>0</td>\n",
       "      <td>0</td>\n",
       "      <td>276</td>\n",
       "    </tr>\n",
       "  </tbody>\n",
       "</table>\n",
       "</div>"
      ],
      "text/plain": [
       "days_to_order_group            Cart  Main  Offers  Payment  Tutorial\n",
       "Event                   ExpId                                       \n",
       "CartScreenAppear        246    1265     0       0        0         0\n",
       "                        247    1235     0       0        0         0\n",
       "                        248    1228     0       0        0         0\n",
       "MainScreenAppear        246       0  2444       0        0         0\n",
       "                        247       0  2472       0        0         0\n",
       "                        248       0  2484       0        0         0\n",
       "OffersScreenAppear      246       0     0    1536        0         0\n",
       "                        247       0     0    1512        0         0\n",
       "                        248       0     0    1528        0         0\n",
       "PaymentScreenSuccessful 246       0     0       0     1198         0\n",
       "                        247       0     0       0     1155         0\n",
       "                        248       0     0       0     1179         0\n",
       "Tutorial                246       0     0       0        0       274\n",
       "                        247       0     0       0        0       276\n",
       "                        248       0     0       0        0       276"
      ]
     },
     "metadata": {},
     "output_type": "display_data"
    }
   ],
   "source": [
    "#Repeat the procedure for all other events (it will save time if you create a special function for this test). \n",
    "#Can you confirm that the groups were split properly?\n",
    "\n",
    "# event names\n",
    "def data_by_event_name(EventName):\n",
    "    \"\"\"\n",
    "    Labels users by number of days until first order.\n",
    "    \"\"\"\n",
    "    if EventName == 'CartScreenAppear':\n",
    "        return 'Cart'\n",
    "    if EventName == 'MainScreenAppear':\n",
    "        return 'Main'\n",
    "    if EventName == 'OffersScreenAppear':\n",
    "        return 'Offers'\n",
    "    if EventName == 'PaymentScreenSuccessful':\n",
    "        return 'Payment'\n",
    "    else:\n",
    "        return 'Tutorial'\n",
    "\n",
    "\n",
    "new_data['days_to_order_group'] = new_data['Event'].apply(data_by_event_name)\n",
    "\n",
    "event_data_pivot = new_data.pivot_table(index=['Event', 'ExpId'], columns='days_to_order_group', values='DeviceId', aggfunc='nunique', fill_value=0)\n",
    "display(event_data_pivot)"
   ]
  },
  {
   "cell_type": "code",
   "execution_count": 49,
   "metadata": {},
   "outputs": [],
   "source": [
    "#Check whether the difference between the groups is statistically significant \n",
    "CartScreenAppear =  new_data.query('Event == \"CartScreenAppear\"')\n",
    "offersscreenappear =  new_data.query('Event == \"OffersScreenAppear\"') \n",
    "paymentsscreenappear =  new_data.query('Event == \"PaymentScreenSuccessful\"') \n",
    "tutoriascreenappear =  new_data.query('Event == \"Tutorial\"') "
   ]
  },
  {
   "cell_type": "markdown",
   "metadata": {},
   "source": [
    "### Testing 246 and 247"
   ]
  },
  {
   "cell_type": "markdown",
   "metadata": {},
   "source": [
    "#### Hypothesis Test\n",
    "- Check whether the difference between the groups is statistically significant for CartScreenAppear. \n",
    "- H0 (the null hypothesis): There's not a statistically significant difference in average order size between Group 246 and Group 247\n",
    "- H1 (the alternative hypothesis): There's a statistically significant difference in average order size between Group 246 and Group 247\n",
    "- alpha value = .05"
   ]
  },
  {
   "cell_type": "code",
   "execution_count": 50,
   "metadata": {},
   "outputs": [
    {
     "name": "stdout",
     "output_type": "stream",
     "text": [
      "0.000\n",
      "0.033\n",
      "p-value:  1.8520807916741869e-06\n",
      "H1 (the alternative hypothesis): there is a statistically significant difference in average order size between Group 246 and Group 247\n"
     ]
    }
   ],
   "source": [
    "#Check whether the difference between the groups is statistically significant for CartScreenAppear.  \n",
    "\n",
    "print(\"{0:.3f}\".format(stats.mannwhitneyu(CartScreenAppear[CartScreenAppear['ExpId']==246]['DeviceId'], CartScreenAppear[CartScreenAppear['ExpId']==247]['DeviceId'])[1]))\n",
    "print(\"{0:.3f}\".format(CartScreenAppear[CartScreenAppear['ExpId']==247]['DeviceId'].mean()/CartScreenAppear[CartScreenAppear['ExpId']==246]['DeviceId'].mean()-1)) \n",
    "\n",
    "alpha = .05 #significance level\n",
    "\n",
    "results2 = st.mannwhitneyu(CartScreenAppear[CartScreenAppear['ExpId']==246]['DeviceId'], CartScreenAppear[CartScreenAppear['ExpId']==247]['DeviceId'])\n",
    "\n",
    "print('p-value: ', results2.pvalue)\n",
    "\n",
    "if (results2.pvalue < alpha):\n",
    "    print(\"H1 (the alternative hypothesis): there is a statistically significant difference in average order size between Group 246 and Group 247\")\n",
    "else:\n",
    "    print(\"H0 (the null hypothesis): there's not a statistically significant difference in average order size between Group 246 and Group 247\")"
   ]
  },
  {
   "cell_type": "markdown",
   "metadata": {},
   "source": [
    "#### Hypothesis Test\n",
    "- Check whether the difference between the groups is statistically significant for OffersScreenAppear.\n",
    "- H0 (the null hypothesis): There's not a statistically significant difference in average order size between Group 246 and Group 247\n",
    "- H1 (the alternative hypothesis): There's a statistically significant difference in average order size between Group 246 and Group 247\n",
    "- alpha value = .05"
   ]
  },
  {
   "cell_type": "code",
   "execution_count": 51,
   "metadata": {},
   "outputs": [
    {
     "name": "stdout",
     "output_type": "stream",
     "text": [
      "0.000\n",
      "0.063\n",
      "p-value:  2.389673162139441e-19\n",
      "H1 (the alternative hypothesis): there is a statistically significant difference in average order size between Group 246 and Group 247\n"
     ]
    }
   ],
   "source": [
    "#Check whether the difference between the groups is statistically significant for OffersScreenAppear.\n",
    "\n",
    "print(\"{0:.3f}\".format(stats.mannwhitneyu(offersscreenappear[offersscreenappear['ExpId']==246]['DeviceId'], offersscreenappear[offersscreenappear['ExpId']==247]['DeviceId'])[1]))\n",
    "print(\"{0:.3f}\".format(offersscreenappear[offersscreenappear['ExpId']==247]['DeviceId'].mean()/offersscreenappear[offersscreenappear['ExpId']==246]['DeviceId'].mean()-1)) \n",
    "\n",
    "alpha = .05 #significance level\n",
    "\n",
    "results2 = st.mannwhitneyu(offersscreenappear[offersscreenappear['ExpId']==246]['DeviceId'], offersscreenappear[offersscreenappear['ExpId']==247]['DeviceId'])\n",
    "\n",
    "print('p-value: ', results2.pvalue)\n",
    "\n",
    "if (results2.pvalue < alpha):\n",
    "    print(\"H1 (the alternative hypothesis): there is a statistically significant difference in average order size between Group 246 and Group 247\")\n",
    "else:\n",
    "    print(\"H0 (the null hypothesis): there's not a statistically significant difference in average order size between Group 246 and Group 247\")"
   ]
  },
  {
   "cell_type": "markdown",
   "metadata": {},
   "source": [
    "#### Hypothesis Test\n",
    "- Check whether the difference between the groups is statistically significant for PaymentScreenSuccessful.\n",
    "- H0 (the null hypothesis): There's not a statistically significant difference in average order size between Group 246 and Group 247\n",
    "- H1 (the alternative hypothesis): There's a statistically significant difference in average order size between Group 246 and Group 247\n",
    "- alpha value = .05"
   ]
  },
  {
   "cell_type": "code",
   "execution_count": 52,
   "metadata": {},
   "outputs": [
    {
     "name": "stdout",
     "output_type": "stream",
     "text": [
      "0.001\n",
      "0.024\n",
      "p-value:  0.0012769232943949378\n",
      "H1 (the alternative hypothesis): there is a statistically significant difference in average order size between Group 246 and Group 247\n"
     ]
    }
   ],
   "source": [
    "#Check whether the difference between the groups is statistically significant for PaymentScreenSuccessful.\n",
    "\n",
    "print(\"{0:.3f}\".format(stats.mannwhitneyu(paymentsscreenappear[paymentsscreenappear['ExpId']==246]['DeviceId'], paymentsscreenappear[paymentsscreenappear['ExpId']==247]['DeviceId'])[1]))\n",
    "print(\"{0:.3f}\".format(paymentsscreenappear[paymentsscreenappear['ExpId']==247]['DeviceId'].mean()/paymentsscreenappear[paymentsscreenappear['ExpId']==246]['DeviceId'].mean()-1)) \n",
    "\n",
    "alpha = .05 #significance level\n",
    "\n",
    "results2 = st.mannwhitneyu(paymentsscreenappear[paymentsscreenappear['ExpId']==246]['DeviceId'], paymentsscreenappear[paymentsscreenappear['ExpId']==247]['DeviceId'])\n",
    "\n",
    "print('p-value: ', results2.pvalue)\n",
    "\n",
    "if (results2.pvalue < alpha):\n",
    "    print(\"H1 (the alternative hypothesis): there is a statistically significant difference in average order size between Group 246 and Group 247\")\n",
    "else:\n",
    "    print(\"H0 (the null hypothesis): there's not a statistically significant difference in average order size between Group 246 and Group 247\")"
   ]
  },
  {
   "cell_type": "markdown",
   "metadata": {},
   "source": [
    "#### Hypothesis Test\n",
    "- Check whether the difference between the groups is statistically significant for Tutorial.\n",
    "- H0 (the null hypothesis): There's not a statistically significant difference in average order size between Group 246 and Group 247\n",
    "- H1 (the alternative hypothesis): There's a statistically significant difference in average order size between Group 246 and Group 247\n",
    "- alpha value = .05"
   ]
  },
  {
   "cell_type": "code",
   "execution_count": 53,
   "metadata": {},
   "outputs": [
    {
     "name": "stdout",
     "output_type": "stream",
     "text": [
      "0.445\n",
      "0.007\n",
      "p-value:  0.44484769196118124\n",
      "H0 (the null hypothesis): there's not a statistically significant difference in average order size between Group 246 and Group 247\n"
     ]
    }
   ],
   "source": [
    "#Check whether the difference between the groups is statistically significant for Tutorial.\n",
    "\n",
    "print(\"{0:.3f}\".format(stats.mannwhitneyu(tutoriascreenappear[tutoriascreenappear['ExpId']==246]['DeviceId'], tutoriascreenappear[tutoriascreenappear['ExpId']==247]['DeviceId'])[1]))\n",
    "print(\"{0:.3f}\".format(tutoriascreenappear[tutoriascreenappear['ExpId']==247]['DeviceId'].mean()/tutoriascreenappear[tutoriascreenappear['ExpId']==246]['DeviceId'].mean()-1)) \n",
    "\n",
    "alpha = .05 #significance level\n",
    "\n",
    "results2 = st.mannwhitneyu(tutoriascreenappear[tutoriascreenappear['ExpId']==246]['DeviceId'], tutoriascreenappear[tutoriascreenappear['ExpId']==247]['DeviceId'])\n",
    "\n",
    "print('p-value: ', results2.pvalue)\n",
    "\n",
    "if (results2.pvalue < alpha):\n",
    "    print(\"H1 (the alternative hypothesis): there is a statistically significant difference in average order size between Group 246 and Group 247\")\n",
    "else:\n",
    "    print(\"H0 (the null hypothesis): there's not a statistically significant difference in average order size between Group 246 and Group 247\")"
   ]
  },
  {
   "cell_type": "markdown",
   "metadata": {},
   "source": [
    "### Testing 246 and 248:"
   ]
  },
  {
   "cell_type": "markdown",
   "metadata": {},
   "source": [
    "#### Hypothesis Test\n",
    "- Check whether the difference between the groups is statistically significant for Tutorial.\n",
    "- H0 (the null hypothesis): There's not a statistically significant difference in average order size between Group 246 and Group 248\n",
    "- H1 (the alternative hypothesis): There's a statistically significant difference in average order size between Group 246 and Group 248\n",
    "- alpha value = .05"
   ]
  },
  {
   "cell_type": "code",
   "execution_count": 54,
   "metadata": {},
   "outputs": [
    {
     "name": "stdout",
     "output_type": "stream",
     "text": [
      "0.308\n",
      "0.021\n",
      "p-value:  0.3082291197195416\n",
      "H0 (the null hypothesis): there's not a statistically significant difference in average order size between Group 246 and Group 248\n"
     ]
    }
   ],
   "source": [
    "#Do the same thing for the group with altered fonts. \n",
    "#Check whether the difference between the groups is statistically significant for Tutorial.\n",
    "\n",
    "print(\"{0:.3f}\".format(stats.mannwhitneyu(tutoriascreenappear[tutoriascreenappear['ExpId']==246]['DeviceId'], tutoriascreenappear[tutoriascreenappear['ExpId']==248]['DeviceId'])[1]))\n",
    "print(\"{0:.3f}\".format(tutoriascreenappear[tutoriascreenappear['ExpId']==248]['DeviceId'].mean()/tutoriascreenappear[tutoriascreenappear['ExpId']==246]['DeviceId'].mean()-1)) \n",
    "\n",
    "alpha = .05 #significance level\n",
    "\n",
    "results2 = st.mannwhitneyu(tutoriascreenappear[tutoriascreenappear['ExpId']==246]['DeviceId'], tutoriascreenappear[tutoriascreenappear['ExpId']==248]['DeviceId'])\n",
    "\n",
    "print('p-value: ', results2.pvalue)\n",
    "\n",
    "if (results2.pvalue < alpha):\n",
    "    print(\"H1 (the alternative hypothesis): there is a statistically significant difference in average order size between Group 246 and Group 248\")\n",
    "else:\n",
    "    print(\"H0 (the null hypothesis): there's not a statistically significant difference in average order size between Group 246 and Group 248\")\n"
   ]
  },
  {
   "cell_type": "markdown",
   "metadata": {},
   "source": [
    "#### Hypothesis Test\n",
    "- Check whether the difference between the groups is statistically significant for CartScreenAppear.\n",
    "- H0 (the null hypothesis): There's not a statistically significant difference in average order size between Group 246 and Group 247\n",
    "- H1 (the alternative hypothesis): There's a statistically significant difference in average order size between Group 246 and Group 247\n",
    "- alpha value = .05"
   ]
  },
  {
   "cell_type": "code",
   "execution_count": 55,
   "metadata": {},
   "outputs": [
    {
     "name": "stdout",
     "output_type": "stream",
     "text": [
      "0.000\n",
      "0.042\n",
      "p-value:  8.00866163737927e-09\n",
      "H1 (the alternative hypothesis): there is a statistically significant difference in average order size between Group 246 and Group 248\n"
     ]
    }
   ],
   "source": [
    "#Check whether the difference between the groups is statistically significant for CartScreenAppear.  \n",
    "\n",
    "print(\"{0:.3f}\".format(stats.mannwhitneyu(CartScreenAppear[CartScreenAppear['ExpId']==246]['DeviceId'], CartScreenAppear[CartScreenAppear['ExpId']==247]['DeviceId'])[1]))\n",
    "print(\"{0:.3f}\".format(CartScreenAppear[CartScreenAppear['ExpId']==248]['DeviceId'].mean()/CartScreenAppear[CartScreenAppear['ExpId']==246]['DeviceId'].mean()-1)) \n",
    "\n",
    "alpha = .05 #significance level\n",
    "\n",
    "results2 = st.mannwhitneyu(CartScreenAppear[CartScreenAppear['ExpId']==246]['DeviceId'], CartScreenAppear[CartScreenAppear['ExpId']==248]['DeviceId'])\n",
    "\n",
    "print('p-value: ', results2.pvalue)\n",
    "\n",
    "if (results2.pvalue < alpha):\n",
    "    print(\"H1 (the alternative hypothesis): there is a statistically significant difference in average order size between Group 246 and Group 248\")\n",
    "else:\n",
    "    print(\"H0 (the null hypothesis): there's not a statistically significant difference in average order size between Group 246 and Group 248\")"
   ]
  },
  {
   "cell_type": "markdown",
   "metadata": {},
   "source": [
    "#### Hypothesis Test\n",
    "- Check whether the difference between the groups is statistically significant for PaymentScreenSuccessful.\n",
    "- H0 (the null hypothesis): There's not a statistically significant difference in average order size between Group 246 and Group 248\n",
    "- H1 (the alternative hypothesis): There's a statistically significant difference in average order size between Group 246 and Group 248\n",
    "- alpha value = .05"
   ]
  },
  {
   "cell_type": "code",
   "execution_count": 56,
   "metadata": {},
   "outputs": [
    {
     "name": "stdout",
     "output_type": "stream",
     "text": [
      "0.000\n",
      "0.043\n",
      "p-value:  6.809338498416768e-07\n",
      "H1 (the alternative hypothesis): there is a statistically significant difference in average order size between Group 246 and Group 248\n"
     ]
    }
   ],
   "source": [
    "#Do the same thing for the group with altered fonts. \n",
    "#Check whether the difference between the groups is statistically significant for PaymentScreenSuccessful.\n",
    "\n",
    "print(\"{0:.3f}\".format(stats.mannwhitneyu(paymentsscreenappear[paymentsscreenappear['ExpId']==246]['DeviceId'], paymentsscreenappear[paymentsscreenappear['ExpId']==248]['DeviceId'])[1]))\n",
    "print(\"{0:.3f}\".format(paymentsscreenappear[paymentsscreenappear['ExpId']==248]['DeviceId'].mean()/paymentsscreenappear[paymentsscreenappear['ExpId']==246]['DeviceId'].mean()-1)) \n",
    "\n",
    "alpha = .05 #significance level\n",
    "\n",
    "results2 = st.mannwhitneyu(paymentsscreenappear[paymentsscreenappear['ExpId']==246]['DeviceId'], paymentsscreenappear[paymentsscreenappear['ExpId']==248]['DeviceId'])\n",
    "\n",
    "print('p-value: ', results2.pvalue)\n",
    "\n",
    "if (results2.pvalue < alpha):\n",
    "    print(\"H1 (the alternative hypothesis): there is a statistically significant difference in average order size between Group 246 and Group 248\")\n",
    "else:\n",
    "    print(\"H0 (the null hypothesis): there's not a statistically significant difference in average order size between Group 246 and Group 248\")"
   ]
  },
  {
   "cell_type": "markdown",
   "metadata": {},
   "source": [
    "#### Hypothesis Test\n",
    "- Check whether the difference between the groups is statistically significant for OffersScreenAppear.\n",
    "- H0 (the null hypothesis): There's not a statistically significant difference in average order size between Group 246 and Group 248\n",
    "- H1 (the alternative hypothesis): There's a statistically significant difference in average order size between Group 246 and Group 248\n",
    "- alpha value = .05"
   ]
  },
  {
   "cell_type": "code",
   "execution_count": 57,
   "metadata": {},
   "outputs": [
    {
     "name": "stdout",
     "output_type": "stream",
     "text": [
      "0.000\n",
      "0.063\n",
      "p-value:  3.754184096736272e-20\n",
      "H1 (the alternative hypothesis): there is a statistically significant difference in average order size between Group 246 and Group 248\n"
     ]
    }
   ],
   "source": [
    "#Do the same thing for the group with altered fonts. \n",
    "#Check whether the difference between the groups is statistically significant for OffersScreenAppear.\n",
    "\n",
    "print(\"{0:.3f}\".format(stats.mannwhitneyu(offersscreenappear[offersscreenappear['ExpId']==246]['DeviceId'], offersscreenappear[offersscreenappear['ExpId']==248]['DeviceId'])[1]))\n",
    "print(\"{0:.3f}\".format(offersscreenappear[offersscreenappear['ExpId']==248]['DeviceId'].mean()/offersscreenappear[offersscreenappear['ExpId']==246]['DeviceId'].mean()-1)) \n",
    "\n",
    "alpha = .05 #significance level\n",
    "\n",
    "results2 = st.mannwhitneyu(offersscreenappear[offersscreenappear['ExpId']==246]['DeviceId'], offersscreenappear[offersscreenappear['ExpId']==248]['DeviceId'])\n",
    "\n",
    "print('p-value: ', results2.pvalue)\n",
    "\n",
    "if (results2.pvalue < alpha):\n",
    "    print(\"H1 (the alternative hypothesis): there is a statistically significant difference in average order size between Group 246 and Group 248\")\n",
    "else:\n",
    "    print(\"H0 (the null hypothesis): there's not a statistically significant difference in average order size between Group 246 and Group 248\")"
   ]
  },
  {
   "cell_type": "markdown",
   "metadata": {},
   "source": [
    "### Testing 247 and 248:"
   ]
  },
  {
   "cell_type": "markdown",
   "metadata": {},
   "source": [
    "#### Hypothesis Test\n",
    "- Check whether the difference between the groups is statistically significant for CartScreenAppear.\n",
    "- H0 (the null hypothesis): There's not a statistically significant difference in average order size between Group 247 and Group 248\n",
    "- H1 (the alternative hypothesis): There's a statistically significant difference in average order size between Group 247 and Group 248\n",
    "- alpha value = .05"
   ]
  },
  {
   "cell_type": "code",
   "execution_count": 58,
   "metadata": {},
   "outputs": [
    {
     "name": "stdout",
     "output_type": "stream",
     "text": [
      "0.028\n",
      "-0.009\n",
      "p-value:  0.02831724085727264\n",
      "H1 (the alternative hypothesis): there is a statistically significant difference in average order size between Group 247 and Group 248\n"
     ]
    }
   ],
   "source": [
    "#Check whether the difference between the groups is statistically significant for CartScreenAppear.  \n",
    "\n",
    "print(\"{0:.3f}\".format(stats.mannwhitneyu(CartScreenAppear[CartScreenAppear['ExpId']==247]['DeviceId'], CartScreenAppear[CartScreenAppear['ExpId']==248]['DeviceId'])[1]))\n",
    "print(\"{0:.3f}\".format(CartScreenAppear[CartScreenAppear['ExpId']==247]['DeviceId'].mean()/CartScreenAppear[CartScreenAppear['ExpId']==248]['DeviceId'].mean()-1)) \n",
    "\n",
    "alpha = .05 #significance level\n",
    "\n",
    "results2 = st.mannwhitneyu(CartScreenAppear[CartScreenAppear['ExpId']==247]['DeviceId'], CartScreenAppear[CartScreenAppear['ExpId']==248]['DeviceId'])\n",
    "\n",
    "print('p-value: ', results2.pvalue)\n",
    "\n",
    "if (results2.pvalue < alpha):\n",
    "    print(\"H1 (the alternative hypothesis): there is a statistically significant difference in average order size between Group 247 and Group 248\")\n",
    "else:\n",
    "    print(\"H0 (the null hypothesis): there's not a statistically significant difference in average order size between Group 247 and Group 248\")"
   ]
  },
  {
   "cell_type": "markdown",
   "metadata": {},
   "source": [
    "#### Hypothesis Test\n",
    "- Check whether the difference between the groups is statistically significant for MainScreen.\n",
    "- H0 (the null hypothesis): There's not a statistically significant difference in average order size between Group 247 and Group 248\n",
    "- H1 (the alternative hypothesis): There's a statistically significant difference in average order size between Group 247 and Group 248\n",
    "- alpha value = .05"
   ]
  },
  {
   "cell_type": "code",
   "execution_count": 59,
   "metadata": {},
   "outputs": [
    {
     "name": "stdout",
     "output_type": "stream",
     "text": [
      "0.000\n",
      "0.022\n",
      "p-value:  3.250694006460116e-08\n",
      "H1 (the alternative hypothesis): there is a statistically significant difference in average order size between Group 247 and Group 248\n"
     ]
    }
   ],
   "source": [
    "#Do the same thing for the group with altered fonts. \n",
    "#Check whether the difference between the groups is statistically significant for MainScreenAppear. \n",
    "\n",
    "print(\"{0:.3f}\".format(stats.mannwhitneyu(userswhoperformedmainscreen[userswhoperformedmainscreen['ExpId']==247]['DeviceId'], userswhoperformedmainscreen[userswhoperformedmainscreen['ExpId']==248]['DeviceId'])[1]))\n",
    "print(\"{0:.3f}\".format(userswhoperformedmainscreen[userswhoperformedmainscreen['ExpId']==247]['DeviceId'].mean()/userswhoperformedmainscreen[userswhoperformedmainscreen['ExpId']==248]['DeviceId'].mean()-1)) \n",
    "\n",
    "alpha = .05 #significance level\n",
    "\n",
    "results2 = st.mannwhitneyu(userswhoperformedmainscreen[userswhoperformedmainscreen['ExpId']==247]['DeviceId'], userswhoperformedmainscreen[userswhoperformedmainscreen['ExpId']==248]['DeviceId'])\n",
    "\n",
    "print('p-value: ', results2.pvalue)\n",
    "\n",
    "if (results2.pvalue < alpha):\n",
    "    print(\"H1 (the alternative hypothesis): there is a statistically significant difference in average order size between Group 247 and Group 248\")\n",
    "else:\n",
    "    print(\"H0 (the null hypothesis): there's not a statistically significant difference in average order size between Group 247 and Group 248\")"
   ]
  },
  {
   "cell_type": "markdown",
   "metadata": {},
   "source": [
    "#### Hypothesis Test\n",
    "- Check whether the difference between the groups is statistically significant for OfferScreen.\n",
    "- H0 (the null hypothesis): There's not a statistically significant difference in average order size between Group 247 and Group 248\n",
    "- H1 (the alternative hypothesis): There's a statistically significant difference in average order size between Group 247 and Group 248\n",
    "- alpha value = .05"
   ]
  },
  {
   "cell_type": "code",
   "execution_count": 60,
   "metadata": {},
   "outputs": [
    {
     "name": "stdout",
     "output_type": "stream",
     "text": [
      "0.469\n",
      "0.000\n",
      "p-value:  0.46861302053730847\n",
      "H0 (the null hypothesis): there's not a statistically significant difference in average order size between Group 247 and Group 248\n"
     ]
    }
   ],
   "source": [
    "#Check whether the difference between the groups is statistically significant for OffersScreenAppear.\n",
    "\n",
    "print(\"{0:.3f}\".format(stats.mannwhitneyu(offersscreenappear[offersscreenappear['ExpId']==247]['DeviceId'], offersscreenappear[offersscreenappear['ExpId']==248]['DeviceId'])[1]))\n",
    "print(\"{0:.3f}\".format(offersscreenappear[offersscreenappear['ExpId']==247]['DeviceId'].mean()/offersscreenappear[offersscreenappear['ExpId']==248]['DeviceId'].mean()-1)) \n",
    "\n",
    "alpha = .05 #significance level\n",
    "\n",
    "results2 = st.mannwhitneyu(offersscreenappear[offersscreenappear['ExpId']==247]['DeviceId'], offersscreenappear[offersscreenappear['ExpId']==248]['DeviceId'])\n",
    "\n",
    "print('p-value: ', results2.pvalue)\n",
    "\n",
    "if (results2.pvalue < alpha):\n",
    "    print(\"H1 (the alternative hypothesis): there is a statistically significant difference in average order size between Group 247 and Group 248\")\n",
    "else:\n",
    "    print(\"H0 (the null hypothesis): there's not a statistically significant difference in average order size between Group 247 and Group 248\")"
   ]
  },
  {
   "cell_type": "markdown",
   "metadata": {},
   "source": [
    "#### Hypothesis Test\n",
    "- Check whether the difference between the groups is statistically significant for Payment Screen.\n",
    "- H0 (the null hypothesis): There's not a statistically significant difference in average order size between Group 247 and Group 248\n",
    "- H1 (the alternative hypothesis): There's a statistically significant difference in average order size between Group 247 and Group 248\n",
    "- alpha value = .05"
   ]
  },
  {
   "cell_type": "code",
   "execution_count": 61,
   "metadata": {},
   "outputs": [
    {
     "name": "stdout",
     "output_type": "stream",
     "text": [
      "0.001\n",
      "-0.018\n",
      "p-value:  0.0006502117276731798\n",
      "H1 (the alternative hypothesis): there is a statistically significant difference in average order size between Group 247 and Group 248\n"
     ]
    }
   ],
   "source": [
    "#Do the same thing for the group with altered fonts. \n",
    "#Check whether the difference between the groups is statistically significant for PaymentScreenSuccessful.\n",
    "\n",
    "print(\"{0:.3f}\".format(stats.mannwhitneyu(paymentsscreenappear[paymentsscreenappear['ExpId']==247]['DeviceId'], paymentsscreenappear[paymentsscreenappear['ExpId']==248]['DeviceId'])[1]))\n",
    "print(\"{0:.3f}\".format(paymentsscreenappear[paymentsscreenappear['ExpId']==247]['DeviceId'].mean()/paymentsscreenappear[paymentsscreenappear['ExpId']==248]['DeviceId'].mean()-1)) \n",
    "\n",
    "alpha = .05 #significance level\n",
    "\n",
    "results2 = st.mannwhitneyu(paymentsscreenappear[paymentsscreenappear['ExpId']==247]['DeviceId'], paymentsscreenappear[paymentsscreenappear['ExpId']==248]['DeviceId'])\n",
    "\n",
    "print('p-value: ', results2.pvalue)\n",
    "\n",
    "if (results2.pvalue < alpha):\n",
    "    print(\"H1 (the alternative hypothesis): there is a statistically significant difference in average order size between Group 247 and Group 248\")\n",
    "else:\n",
    "    print(\"H0 (the null hypothesis): there's not a statistically significant difference in average order size between Group 247 and Group 248\")"
   ]
  },
  {
   "cell_type": "markdown",
   "metadata": {},
   "source": [
    "#### Hypothesis Test\n",
    "- Check whether the difference between the groups is statistically significant for Tutorial.\n",
    "- H0 (the null hypothesis): There's not a statistically significant difference in average order size between Group 247 and Group 248\n",
    "- H1 (the alternative hypothesis): There's a statistically significant difference in average order size between Group 247 and Group 248\n",
    "- alpha value = .05"
   ]
  },
  {
   "cell_type": "code",
   "execution_count": 62,
   "metadata": {},
   "outputs": [
    {
     "name": "stdout",
     "output_type": "stream",
     "text": [
      "0.347\n",
      "0.000\n",
      "p-value:  0.34703750211138706\n",
      "H0 (the null hypothesis): there's not a statistically significant difference in average order size between Group 247 and Group 248\n"
     ]
    }
   ],
   "source": [
    "#Do the same thing for the group with altered fonts. \n",
    "#Check whether the difference between the groups is statistically significant for Tutorial.\n",
    "\n",
    "print(\"{0:.3f}\".format(stats.mannwhitneyu(tutoriascreenappear[tutoriascreenappear['ExpId']==247]['DeviceId'], tutoriascreenappear[tutoriascreenappear['ExpId']==248]['DeviceId'])[1]))\n",
    "print(\"{0:.3f}\".format(tutoriascreenappear[tutoriascreenappear['ExpId']==247]['DeviceId'].mean()/tutoriascreenappear[tutoriascreenappear['ExpId']==247]['DeviceId'].mean()-1)) \n",
    "\n",
    "alpha = .05 #significance level\n",
    "\n",
    "results2 = st.mannwhitneyu(tutoriascreenappear[tutoriascreenappear['ExpId']==247]['DeviceId'], tutoriascreenappear[tutoriascreenappear['ExpId']==248]['DeviceId'])\n",
    "\n",
    "print('p-value: ', results2.pvalue)\n",
    "\n",
    "if (results2.pvalue < alpha):\n",
    "    print(\"H1 (the alternative hypothesis): there is a statistically significant difference in average order size between Group 247 and Group 248\")\n",
    "else:\n",
    "    print(\"H0 (the null hypothesis): there's not a statistically significant difference in average order size between Group 247 and Group 248\")"
   ]
  },
  {
   "cell_type": "code",
   "execution_count": null,
   "metadata": {},
   "outputs": [],
   "source": []
  },
  {
   "cell_type": "markdown",
   "metadata": {},
   "source": [
    "##### What conclusions can you draw from the experiment?\n",
    "\n",
    "When conducting the AA test agains 246 and 247 we found that there were statistical significances for payment, offers cart and main screens\n",
    "\n",
    "When conducting the AA test against 247 and 248 we found that there were statistidal significances for payment, cart and main screens\n",
    "\n",
    "when conducting the AA test against 246 and 248 we found that there were statstical significances for payment, offers and cart screens \n",
    "\n",
    "Stat significance level was .5 because its generally used and indicative of strong evidence against the null hypothesis, because of the probability being less than 5% null is correct, making it appropriate. It points out that main screen and offer screen are motivators for behavior of users.\n",
    "\n",
    "carried out 16 hypothesis tests"
   ]
  },
  {
   "cell_type": "markdown",
   "metadata": {},
   "source": [
    "### Project Conclusion\n",
    "\n",
    "#### Data uncovered\n",
    "- When we started assessing the population of this experiment, we were able to determine that there were 2437130 events in the logs that included dates from 07/25-08/07/2019.\n",
    "- The average number of users in the logs were 7551. \n",
    "- The users that were accessing the site before 07/31 might have experienced technical issues, prior marketing campaigns or simply because the product we were offering did not capture the users interest. \n",
    "- Average events per user were around 32 before we started evaluating the date ranges after 07/31/2019.\n",
    "- We were able to create a table that demonstrated the average period users were accessing the data was between 07/31-08/07/2019. So, we created a funnel to eliminate the data that wasn’t pertaining to our experiment. We decided to remove the users outside of this date range because it was .01% of the total users. \n",
    "- When we funneled out the data, we realized that the test group 248 comprised most of the users accessing the data. 246 was second greatest number of users followed by 247.\n",
    "- We can see that when we investigate the funnel of new users we see the breakdown below that shows share of users who proceed from one stage to another:\n",
    "\n",
    "    Main Screen had 54% of users, Offer Screen had 29% of users,Check out process has 12% of users,Payment Screen 2.8% of users,Tutorial completion .09% of users\n",
    "    \n",
    "#### Test Groups\n",
    "- Out of these test groups we saw that the highest number of users were accessing the main screen but did not proceed through to payment. This might have been because the offers were not enticing enough to pursue the purchase, or because people forget or change their mind as money do when shopping, etc. (This is where we had to evaluate the statistical significance of each group by performing Mann Whitney tests.)\n",
    "- When conducting the AA test against 246 and 247 we found that there were statistical significances for payment, offers cart and main screens.\n",
    "- When conducting the AA test against 247 and 248 we found that there were statistical significances for payment, cart and main screens.\n",
    "- when conducting the AA test against 246 and 248 we found that there were statistical significances for payment, offers and cart screens.\n",
    "\n",
    "#### Suggestion \n",
    "- With this data in mind, it would be wise for the marketing team to entice users with font changes in payment screen and Cart screen. Changing the fonts in the offers screen and the main screen didn't make much difference. We can base this off the amount of time the users visit the site and add items to the cart but never go back to purchase. Changing the fonts in the cart screen and the payment screen and enticing users with offers when items are in the cart, but not purchased immediately might be a good marketing tactic to gain business.  "
   ]
  }
 ],
 "metadata": {
  "kernelspec": {
   "display_name": "Python 3",
   "language": "python",
   "name": "python3"
  },
  "language_info": {
   "codemirror_mode": {
    "name": "ipython",
    "version": 3
   },
   "file_extension": ".py",
   "mimetype": "text/x-python",
   "name": "python",
   "nbconvert_exporter": "python",
   "pygments_lexer": "ipython3",
   "version": "3.7.6"
  },
  "toc": {
   "base_numbering": 1,
   "nav_menu": {},
   "number_sections": true,
   "sideBar": true,
   "skip_h1_title": true,
   "title_cell": "Table of Contents",
   "title_sidebar": "Contents",
   "toc_cell": false,
   "toc_position": {},
   "toc_section_display": true,
   "toc_window_display": false
  }
 },
 "nbformat": 4,
 "nbformat_minor": 4
}
